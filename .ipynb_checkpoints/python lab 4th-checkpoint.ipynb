{
 "cells": [
  {
   "cell_type": "markdown",
   "id": "53339329-d978-4c98-a41b-6550195a5524",
   "metadata": {},
   "source": [
    "# Error Handling in Python\n"
   ]
  },
  {
   "cell_type": "markdown",
   "id": "25822201-e223-42a7-9585-9b6ca408589a",
   "metadata": {},
   "source": [
    "# Types of Errors in Python"
   ]
  },
  {
   "cell_type": "markdown",
   "id": "9e6c50ff-35ed-4ffc-955f-9cda749ccb31",
   "metadata": {},
   "source": [
    "# a) Syntax Errors\n"
   ]
  },
  {
   "cell_type": "code",
   "execution_count": 2,
   "id": "13f43d7e-3de7-4601-beb4-d68d947778ed",
   "metadata": {},
   "outputs": [
    {
     "ename": "SyntaxError",
     "evalue": "unterminated string literal (detected at line 1) (1690591852.py, line 1)",
     "output_type": "error",
     "traceback": [
      "  \u001b[36mCell\u001b[39m\u001b[36m \u001b[39m\u001b[32mIn[2]\u001b[39m\u001b[32m, line 1\u001b[39m\n\u001b[31m    \u001b[39m\u001b[31mprint (\" welcome to python\u001b[39m\n           ^\n\u001b[31mSyntaxError\u001b[39m\u001b[31m:\u001b[39m unterminated string literal (detected at line 1)\n"
     ]
    }
   ],
   "source": [
    "print (\" welcome to python"
   ]
  },
  {
   "cell_type": "markdown",
   "id": "d45c7247-dd28-42e4-af2a-4b0826f8771b",
   "metadata": {},
   "source": [
    "# b) Runtime Errors (Exceptions)"
   ]
  },
  {
   "cell_type": "code",
   "execution_count": 5,
   "id": "741c9484-5e30-4d66-a21d-e6e2b325fbd8",
   "metadata": {},
   "outputs": [
    {
     "ename": "ZeroDivisionError",
     "evalue": "division by zero",
     "output_type": "error",
     "traceback": [
      "\u001b[31m---------------------------------------------------------------------------\u001b[39m",
      "\u001b[31mZeroDivisionError\u001b[39m                         Traceback (most recent call last)",
      "\u001b[36mCell\u001b[39m\u001b[36m \u001b[39m\u001b[32mIn[5]\u001b[39m\u001b[32m, line 1\u001b[39m\n\u001b[32m----> \u001b[39m\u001b[32m1\u001b[39m \u001b[38;5;28mprint\u001b[39m ( \u001b[32;43m10\u001b[39;49m\u001b[43m \u001b[49m\u001b[43m/\u001b[49m\u001b[43m \u001b[49m\u001b[32;43m0\u001b[39;49m )\n",
      "\u001b[31mZeroDivisionError\u001b[39m: division by zero"
     ]
    }
   ],
   "source": [
    "print ( 10 / 0 )"
   ]
  },
  {
   "cell_type": "markdown",
   "id": "3f8b71d7-7f1f-47e3-9f86-b8ad478d356e",
   "metadata": {},
   "source": [
    "# c) Logical Errors\n"
   ]
  },
  {
   "cell_type": "code",
   "execution_count": 8,
   "id": "bbc6d109-e127-469d-a285-cc2fd987c18e",
   "metadata": {},
   "outputs": [],
   "source": [
    "def add(a, b):\n",
    "    return a - b"
   ]
  },
  {
   "cell_type": "markdown",
   "id": "dd7d3e3c-7d81-416e-91e4-416a80bf3d1e",
   "metadata": {},
   "source": [
    "# Handling Exceptions: try, except, else, finally"
   ]
  },
  {
   "cell_type": "code",
   "execution_count": 10,
   "id": "7ac7d6c7-f4ec-4e2a-9de3-0796285b7cdc",
   "metadata": {},
   "outputs": [
    {
     "ename": "IndentationError",
     "evalue": "expected an indented block after 'try' statement on line 1 (3317281846.py, line 3)",
     "output_type": "error",
     "traceback": [
      "  \u001b[36mCell\u001b[39m\u001b[36m \u001b[39m\u001b[32mIn[10]\u001b[39m\u001b[32m, line 3\u001b[39m\n\u001b[31m    \u001b[39m\u001b[31mexcept\u001b[39m\n    ^\n\u001b[31mIndentationError\u001b[39m\u001b[31m:\u001b[39m expected an indented block after 'try' statement on line 1\n"
     ]
    }
   ],
   "source": [
    "try:\n",
    "    \n",
    "except \n",
    "else:\n",
    "    \n",
    "finally:\n"
   ]
  },
  {
   "cell_type": "markdown",
   "id": "bcf6f326-4f96-4729-bf78-53845c500508",
   "metadata": {},
   "source": [
    "# Handling Division by Zero\n"
   ]
  },
  {
   "cell_type": "code",
   "execution_count": 12,
   "id": "e2ec6529-98ca-45eb-9629-85b29853d5c3",
   "metadata": {},
   "outputs": [
    {
     "name": "stdout",
     "output_type": "stream",
     "text": [
      "Cannot divide by zero!\n",
      "Execution completed.\n"
     ]
    }
   ],
   "source": [
    "try:\n",
    "    result = 10 / 0\n",
    "except ZeroDivisionError:\n",
    "    print(\"Cannot divide by zero!\")\n",
    "else:\n",
    "    print(\"Result:\", result)\n",
    "finally:\n",
    "    print(\"Execution completed.\")\n"
   ]
  },
  {
   "cell_type": "markdown",
   "id": "dc0d6339-08d8-4889-a7b7-e63fe7b6760c",
   "metadata": {},
   "source": [
    "# Handling Multiple Exceptions"
   ]
  },
  {
   "cell_type": "code",
   "execution_count": 13,
   "id": "30ea620e-c681-4827-8523-65d22c9ccb83",
   "metadata": {},
   "outputs": [
    {
     "name": "stdin",
     "output_type": "stream",
     "text": [
      "Enter a number:  22\n"
     ]
    },
    {
     "name": "stdout",
     "output_type": "stream",
     "text": [
      "0.45454545454545453\n"
     ]
    }
   ],
   "source": [
    "try:\n",
    "    num = int(input(\"Enter a number: \"))\n",
    "    print(10 / num)\n",
    "except ValueError:\n",
    "    print(\"Invalid input! Enter a number.\")\n",
    "except ZeroDivisionError:\n",
    "    print(\"Cannot divide by zero!\")"
   ]
  },
  {
   "cell_type": "code",
   "execution_count": null,
   "id": "8dc5fe6f-d732-4f42-8db5-bfc387b233be",
   "metadata": {},
   "outputs": [],
   "source": []
  }
 ],
 "metadata": {
  "kernelspec": {
   "display_name": "Python 3 (ipykernel)",
   "language": "python",
   "name": "python3"
  },
  "language_info": {
   "codemirror_mode": {
    "name": "ipython",
    "version": 3
   },
   "file_extension": ".py",
   "mimetype": "text/x-python",
   "name": "python",
   "nbconvert_exporter": "python",
   "pygments_lexer": "ipython3",
   "version": "3.13.5"
  }
 },
 "nbformat": 4,
 "nbformat_minor": 5
}
