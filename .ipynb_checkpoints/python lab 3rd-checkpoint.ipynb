{
 "cells": [
  {
   "cell_type": "markdown",
   "id": "502fb793-73b1-49eb-8418-09b259754ad1",
   "metadata": {},
   "source": [
    "# Defining a Function"
   ]
  },
  {
   "cell_type": "markdown",
   "id": "51d8106e-4eaf-406e-99e1-d6c4318cc7f7",
   "metadata": {},
   "source": [
    "# Simple Function\n"
   ]
  },
  {
   "cell_type": "code",
   "execution_count": 5,
   "id": "457b8917-0452-4016-8bba-384e61bc9efe",
   "metadata": {},
   "outputs": [
    {
     "name": "stdout",
     "output_type": "stream",
     "text": [
      "Hello, World!\n"
     ]
    }
   ],
   "source": [
    "def greet():\n",
    "    print(\"Hello, World!\")\n",
    "\n",
    "greet()"
   ]
  },
  {
   "cell_type": "markdown",
   "id": "a0f1cac7-8dc5-490b-b056-8db284ef0759",
   "metadata": {},
   "source": [
    "#  Function Parameters\n"
   ]
  },
  {
   "cell_type": "markdown",
   "id": "cb769314-a13f-4912-8263-2bfd2f467c8d",
   "metadata": {},
   "source": [
    "# a) Positional Arguments (Required)"
   ]
  },
  {
   "cell_type": "code",
   "execution_count": 7,
   "id": "0aaf98c9-853a-4602-a7cd-272f5e313efb",
   "metadata": {},
   "outputs": [
    {
     "name": "stdout",
     "output_type": "stream",
     "text": [
      "40\n"
     ]
    }
   ],
   "source": [
    "def add(a, b):\n",
    "    return a + b\n",
    "\n",
    "print(add(30, 10)) "
   ]
  },
  {
   "cell_type": "markdown",
   "id": "62a1d395-0529-4af1-b1ef-8a011c9d1ea9",
   "metadata": {},
   "source": [
    "# b) Default Arguments (Optional)"
   ]
  },
  {
   "cell_type": "code",
   "execution_count": 9,
   "id": "363a17fa-c951-4236-ab3f-362105bf84ba",
   "metadata": {},
   "outputs": [
    {
     "name": "stdout",
     "output_type": "stream",
     "text": [
      "81\n",
      "387420489\n"
     ]
    }
   ],
   "source": [
    "def power(num, exponent=2):\n",
    "    return num ** exponent\n",
    "\n",
    "print(power(9))     \n",
    "print(power(9, 9)) "
   ]
  },
  {
   "cell_type": "markdown",
   "id": "f71dc12a-721c-405a-a1e9-2881dc675b12",
   "metadata": {},
   "source": [
    "# c) Keyword Arguments (Named Parameters)\n"
   ]
  },
  {
   "cell_type": "code",
   "execution_count": 11,
   "id": "eb23d84b-f57b-4e55-83b4-4f298b99092d",
   "metadata": {},
   "outputs": [
    {
     "name": "stdout",
     "output_type": "stream",
     "text": [
      "SHAHzaib is 22 years old.\n"
     ]
    }
   ],
   "source": [
    "def introduce(name, age):\n",
    "    print(f\"{name} is {age} years old.\")\n",
    "\n",
    "introduce(age=22, name=\"SHAHzaib\") "
   ]
  },
  {
   "cell_type": "markdown",
   "id": "e468fcb3-a2b0-421a-8f4c-b23cc56e20e5",
   "metadata": {},
   "source": [
    "# d) Arbitrary Arguments (arguments  and keyword arguments)"
   ]
  },
  {
   "cell_type": "code",
   "execution_count": 13,
   "id": "e58fbc76-b483-4530-9cd0-1651edeaea9d",
   "metadata": {},
   "outputs": [
    {
     "name": "stdout",
     "output_type": "stream",
     "text": [
      "Positional args: (1, 2, 3)\n",
      "Keyword args: {'name': 'shahzaib', 'age': 22}\n"
     ]
    }
   ],
   "source": [
    "def print_args(*args, **kwargs):\n",
    "    print(\"Positional args:\", args)\n",
    "    print(\"Keyword args:\", kwargs)\n",
    "\n",
    "print_args(1, 2, 3, name=\"shahzaib\", age=22)\n"
   ]
  },
  {
   "cell_type": "markdown",
   "id": "79cb53f3-863f-4905-81e6-e97ef744ce4a",
   "metadata": {},
   "source": [
    "# Return Statement\n"
   ]
  },
  {
   "cell_type": "code",
   "execution_count": 15,
   "id": "e1176bd9-8c01-4b11-ac8d-01dcb3f7999f",
   "metadata": {},
   "outputs": [
    {
     "name": "stdout",
     "output_type": "stream",
     "text": [
      "729 6561\n"
     ]
    }
   ],
   "source": [
    "def square_and_cube(n):\n",
    "    return n ** 6, n ** 8\n",
    "\n",
    "sq, cube = square_and_cube(3)\n",
    "print(sq, cube) "
   ]
  },
  {
   "cell_type": "markdown",
   "id": "11ec4adb-0115-481b-b039-966978fd7414",
   "metadata": {},
   "source": [
    "# Variable Scope"
   ]
  },
  {
   "cell_type": "code",
   "execution_count": 19,
   "id": "0ddeacfe-4018-4bfd-9e66-643acaca9eb2",
   "metadata": {},
   "outputs": [
    {
     "name": "stdout",
     "output_type": "stream",
     "text": [
      "19\n",
      "9\n"
     ]
    }
   ],
   "source": [
    "x = 10  \n",
    "y = 9\n",
    "def test():\n",
    "    y = 9  \n",
    "    print(x + y)  \n",
    "\n",
    "test()      \n",
    "print(y)   "
   ]
  },
  {
   "cell_type": "markdown",
   "id": "bcd63999-8f3a-4cb6-9305-3634c17c9fd1",
   "metadata": {},
   "source": [
    "# Modifying Global Variables Inside a Function"
   ]
  },
  {
   "cell_type": "code",
   "execution_count": 21,
   "id": "9465d772-80a6-45c2-acee-206b357f0caa",
   "metadata": {},
   "outputs": [
    {
     "name": "stdout",
     "output_type": "stream",
     "text": [
      "20\n"
     ]
    }
   ],
   "source": [
    "x = 100\n",
    "\n",
    "def change_x():\n",
    "    global x\n",
    "    x = 20\n",
    "\n",
    "change_x()\n",
    "print(x)  "
   ]
  },
  {
   "cell_type": "markdown",
   "id": "139a0884-f26a-4ec0-b265-b4cfce218cc2",
   "metadata": {},
   "source": [
    "# Lambda Functions (Anonymous Functions)"
   ]
  },
  {
   "cell_type": "code",
   "execution_count": 23,
   "id": "8f4eae9c-0b5a-4431-b9b4-5530cd51125a",
   "metadata": {},
   "outputs": [
    {
     "name": "stdout",
     "output_type": "stream",
     "text": [
      "2500\n"
     ]
    }
   ],
   "source": [
    "square = lambda x: x * x\n",
    "print(square(50)) "
   ]
  },
  {
   "cell_type": "code",
   "execution_count": 25,
   "id": "bae782d2-3ce4-408e-8fd7-eb9d71546f60",
   "metadata": {},
   "outputs": [
    {
     "name": "stdout",
     "output_type": "stream",
     "text": [
      "[169, 1024, 1849, 1936]\n"
     ]
    }
   ],
   "source": [
    "numbers = [13, 32, 43, 44]\n",
    "squared = list(map(lambda x: x ** 2, numbers))\n",
    "print(squared)"
   ]
  },
  {
   "cell_type": "markdown",
   "id": "bde85fc4-646b-4cdc-a41b-2eaed69c81b3",
   "metadata": {},
   "source": [
    "# Recursion (Function Calling Itself)"
   ]
  },
  {
   "cell_type": "code",
   "execution_count": 28,
   "id": "0f48ccd3-1383-488f-8e2e-752499499677",
   "metadata": {},
   "outputs": [
    {
     "name": "stdout",
     "output_type": "stream",
     "text": [
      "40320\n"
     ]
    }
   ],
   "source": [
    "def factorial(n):\n",
    "    if n == 1:\n",
    "        return 1\n",
    "    else:\n",
    "        return n * factorial(n - 1)\n",
    "\n",
    "print(factorial(8))"
   ]
  },
  {
   "cell_type": "code",
   "execution_count": null,
   "id": "b7655a26-ad44-4320-91af-0bdbab187289",
   "metadata": {},
   "outputs": [],
   "source": []
  }
 ],
 "metadata": {
  "kernelspec": {
   "display_name": "Python 3 (ipykernel)",
   "language": "python",
   "name": "python3"
  },
  "language_info": {
   "codemirror_mode": {
    "name": "ipython",
    "version": 3
   },
   "file_extension": ".py",
   "mimetype": "text/x-python",
   "name": "python",
   "nbconvert_exporter": "python",
   "pygments_lexer": "ipython3",
   "version": "3.13.5"
  }
 },
 "nbformat": 4,
 "nbformat_minor": 5
}
