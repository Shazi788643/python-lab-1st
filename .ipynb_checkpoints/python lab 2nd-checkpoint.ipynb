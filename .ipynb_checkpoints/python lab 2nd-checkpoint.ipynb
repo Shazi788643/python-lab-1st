{
 "cells": [
  {
   "cell_type": "markdown",
   "id": "62158e02-fb97-4c03-a877-7b6538017858",
   "metadata": {},
   "source": [
    "#  Operators in Python \n"
   ]
  },
  {
   "cell_type": "markdown",
   "id": "5631d3cf-2ece-4551-980b-44f12dae25d5",
   "metadata": {},
   "source": [
    "# +, -, *, /, %, **, //"
   ]
  },
  {
   "cell_type": "code",
   "execution_count": 1,
   "id": "6166fa82-b3fe-4849-aea2-88fd40256462",
   "metadata": {},
   "outputs": [],
   "source": [
    "s = 50\n",
    "a = 30"
   ]
  },
  {
   "cell_type": "code",
   "execution_count": 3,
   "id": "95d5cdd7-8896-4d2a-ac90-a85472fb08ea",
   "metadata": {},
   "outputs": [
    {
     "name": "stdout",
     "output_type": "stream",
     "text": [
      "80\n"
     ]
    }
   ],
   "source": [
    "print ( s + a )"
   ]
  },
  {
   "cell_type": "code",
   "execution_count": 5,
   "id": "669eaa18-a2e7-4f78-8c88-ef015f97ad4b",
   "metadata": {},
   "outputs": [
    {
     "name": "stdout",
     "output_type": "stream",
     "text": [
      "20\n"
     ]
    }
   ],
   "source": [
    "print (s - a )"
   ]
  },
  {
   "cell_type": "code",
   "execution_count": 7,
   "id": "6f7591d8-bf37-423c-8a74-0fcb384e6a79",
   "metadata": {},
   "outputs": [
    {
     "name": "stdout",
     "output_type": "stream",
     "text": [
      "1500\n"
     ]
    }
   ],
   "source": [
    "print ( s * a)"
   ]
  },
  {
   "cell_type": "code",
   "execution_count": 9,
   "id": "fd229fbf-6d63-4758-ac44-7416525cffc7",
   "metadata": {},
   "outputs": [
    {
     "name": "stdout",
     "output_type": "stream",
     "text": [
      "1.6666666666666667\n"
     ]
    }
   ],
   "source": [
    "print ( s / a )"
   ]
  },
  {
   "cell_type": "code",
   "execution_count": 11,
   "id": "1715d834-9556-4611-a3be-ef7520bcae24",
   "metadata": {},
   "outputs": [
    {
     "name": "stdout",
     "output_type": "stream",
     "text": [
      "20\n"
     ]
    }
   ],
   "source": [
    "print ( s % a )"
   ]
  },
  {
   "cell_type": "code",
   "execution_count": 13,
   "id": "5cd5f5b3-126b-402c-8e8b-b8b84e5a1724",
   "metadata": {},
   "outputs": [
    {
     "name": "stdout",
     "output_type": "stream",
     "text": [
      "931322574615478515625000000000000000000000000000000\n"
     ]
    }
   ],
   "source": [
    "print ( s ** a )"
   ]
  },
  {
   "cell_type": "code",
   "execution_count": 14,
   "id": "fc784d50-1898-4381-b8e2-ad70d3dae15f",
   "metadata": {},
   "outputs": [
    {
     "name": "stdout",
     "output_type": "stream",
     "text": [
      "1\n"
     ]
    }
   ],
   "source": [
    "print ( s // a )"
   ]
  },
  {
   "cell_type": "markdown",
   "id": "29237f33-0c25-425a-bdd5-0372289fc77c",
   "metadata": {},
   "source": [
    "# Comparison Operators"
   ]
  },
  {
   "cell_type": "markdown",
   "id": "5aa21822-9b40-422e-92a2-217e342e868c",
   "metadata": {},
   "source": [
    "# ==, !=, >, <, >=, <="
   ]
  },
  {
   "cell_type": "code",
   "execution_count": 15,
   "id": "bea5badb-277a-48ac-ac2a-b89705e7c8c3",
   "metadata": {},
   "outputs": [],
   "source": [
    "s = 50\n",
    "a = 30"
   ]
  },
  {
   "cell_type": "code",
   "execution_count": 17,
   "id": "f250f0e3-9b06-42bc-a418-19c3997d6bf1",
   "metadata": {},
   "outputs": [
    {
     "name": "stdout",
     "output_type": "stream",
     "text": [
      "False\n"
     ]
    }
   ],
   "source": [
    "print ( s == a )"
   ]
  },
  {
   "cell_type": "code",
   "execution_count": 19,
   "id": "3c966597-9059-4f6e-a79b-7c64d08589e9",
   "metadata": {},
   "outputs": [
    {
     "name": "stdout",
     "output_type": "stream",
     "text": [
      "True\n"
     ]
    }
   ],
   "source": [
    "print ( s != a )"
   ]
  },
  {
   "cell_type": "code",
   "execution_count": 21,
   "id": "d273b48a-4720-43dc-bab1-4438f55d076f",
   "metadata": {},
   "outputs": [
    {
     "name": "stdout",
     "output_type": "stream",
     "text": [
      "True\n"
     ]
    }
   ],
   "source": [
    "print ( s > a )"
   ]
  },
  {
   "cell_type": "code",
   "execution_count": 23,
   "id": "a0e78bd8-d7bf-4f6a-acd2-194c6fd01c39",
   "metadata": {},
   "outputs": [
    {
     "name": "stdout",
     "output_type": "stream",
     "text": [
      "False\n"
     ]
    }
   ],
   "source": [
    "print ( s < a )\n"
   ]
  },
  {
   "cell_type": "code",
   "execution_count": 25,
   "id": "f30ace8a-415b-45bd-a09d-e850a8ab3338",
   "metadata": {},
   "outputs": [
    {
     "name": "stdout",
     "output_type": "stream",
     "text": [
      "True\n"
     ]
    }
   ],
   "source": [
    "print ( s >= a )"
   ]
  },
  {
   "cell_type": "code",
   "execution_count": 27,
   "id": "2feebab7-2f63-495d-bbff-0099cc043ba9",
   "metadata": {},
   "outputs": [
    {
     "name": "stdout",
     "output_type": "stream",
     "text": [
      "False\n"
     ]
    }
   ],
   "source": [
    "print ( s <= a )"
   ]
  },
  {
   "cell_type": "markdown",
   "id": "813223df-e501-478b-9a1c-a127ac8543ab",
   "metadata": {},
   "source": [
    "# Logical Operators"
   ]
  },
  {
   "cell_type": "code",
   "execution_count": 28,
   "id": "68747615-9f98-4e8d-afa0-261394054533",
   "metadata": {},
   "outputs": [],
   "source": [
    "s = True\n",
    "a = False"
   ]
  },
  {
   "cell_type": "code",
   "execution_count": 31,
   "id": "358f9622-e2b9-4378-a660-e6aadf20e8eb",
   "metadata": {},
   "outputs": [
    {
     "name": "stdout",
     "output_type": "stream",
     "text": [
      "False\n"
     ]
    }
   ],
   "source": [
    "print(s and a)"
   ]
  },
  {
   "cell_type": "code",
   "execution_count": 34,
   "id": "4eeb66ac-fd3a-4f34-a093-2edcf1d0dc84",
   "metadata": {},
   "outputs": [
    {
     "name": "stdout",
     "output_type": "stream",
     "text": [
      "True\n"
     ]
    }
   ],
   "source": [
    "print(s or a)"
   ]
  },
  {
   "cell_type": "code",
   "execution_count": 36,
   "id": "f9595d20-621f-43f9-a273-e9732c439bec",
   "metadata": {},
   "outputs": [
    {
     "name": "stdout",
     "output_type": "stream",
     "text": [
      "False\n"
     ]
    }
   ],
   "source": [
    "print ( not s)"
   ]
  },
  {
   "cell_type": "markdown",
   "id": "a2d4a785-8411-43fb-9cd3-fcb15d847aef",
   "metadata": {},
   "source": [
    "# Assignment Operators"
   ]
  },
  {
   "cell_type": "code",
   "execution_count": 38,
   "id": "db384488-d868-4c37-b3b4-929f59aabd61",
   "metadata": {},
   "outputs": [
    {
     "name": "stdout",
     "output_type": "stream",
     "text": [
      "12\n"
     ]
    }
   ],
   "source": [
    "c = 8\n",
    "c += 4 \n",
    "print(c)"
   ]
  },
  {
   "cell_type": "code",
   "execution_count": 43,
   "id": "6d64ca4e-57ee-4cdd-bb94-c969e2840efc",
   "metadata": {},
   "outputs": [
    {
     "name": "stdout",
     "output_type": "stream",
     "text": [
      "18\n"
     ]
    }
   ],
   "source": [
    "c -= -3\n",
    "print(c)"
   ]
  },
  {
   "cell_type": "code",
   "execution_count": 45,
   "id": "f725ba9a-634b-4754-a029-710e7107f46c",
   "metadata": {},
   "outputs": [
    {
     "name": "stdout",
     "output_type": "stream",
     "text": [
      "450\n"
     ]
    }
   ],
   "source": [
    "c *= 5\n",
    "print(c)"
   ]
  },
  {
   "cell_type": "markdown",
   "id": "63478696-7467-4206-9837-4c4533cb953f",
   "metadata": {},
   "source": [
    "# Identity Operators (check memory location)"
   ]
  },
  {
   "cell_type": "code",
   "execution_count": 47,
   "id": "ac10474c-c7ea-495f-a78a-e1906a6c4464",
   "metadata": {},
   "outputs": [
    {
     "name": "stdout",
     "output_type": "stream",
     "text": [
      "False\n"
     ]
    }
   ],
   "source": [
    "list1 = [12, 32, 43]\n",
    "list2 = [12, 25, 34]\n",
    "print(list1 is list2)"
   ]
  },
  {
   "cell_type": "code",
   "execution_count": 49,
   "id": "bc26749c-5477-4360-bd58-1036e74f4fc2",
   "metadata": {},
   "outputs": [
    {
     "name": "stdout",
     "output_type": "stream",
     "text": [
      "False\n"
     ]
    }
   ],
   "source": [
    "print(list1 == list2)"
   ]
  },
  {
   "cell_type": "markdown",
   "id": "51034a34-7b0b-4855-ba0c-7dace553bcf6",
   "metadata": {},
   "source": [
    "# Membership Operators"
   ]
  },
  {
   "cell_type": "code",
   "execution_count": 51,
   "id": "f102d557-4d1f-4f16-a736-45afa87b8c08",
   "metadata": {},
   "outputs": [
    {
     "name": "stdout",
     "output_type": "stream",
     "text": [
      "False\n"
     ]
    }
   ],
   "source": [
    "fruits = [\"pea\", \"orange\", \"mango\"]\n",
    "print(\"banana\" in fruits)    "
   ]
  },
  {
   "cell_type": "code",
   "execution_count": 53,
   "id": "beb4bbb0-ba82-4ce8-8cfa-597df7b77aed",
   "metadata": {},
   "outputs": [
    {
     "name": "stdout",
     "output_type": "stream",
     "text": [
      "False\n"
     ]
    }
   ],
   "source": [
    "print(\"mango\" not in fruits)  "
   ]
  },
  {
   "cell_type": "markdown",
   "id": "0f3e61c8-6c27-40d8-88c6-f3062be80e6b",
   "metadata": {},
   "source": [
    "# Input and Output (I/O)\n"
   ]
  },
  {
   "cell_type": "code",
   "execution_count": 55,
   "id": "942b2cd6-df84-44d5-9c6e-40a85cb5c38a",
   "metadata": {},
   "outputs": [
    {
     "name": "stdin",
     "output_type": "stream",
     "text": [
      "Enter your name:  SHAHZAIB\n",
      "Enter your age:  22\n"
     ]
    }
   ],
   "source": [
    "name = input(\"Enter your name: \")\n",
    "age = int(input(\"Enter your age: \"))"
   ]
  },
  {
   "cell_type": "code",
   "execution_count": 57,
   "id": "dac2d8ef-4571-4f34-8e45-8b34c06b4043",
   "metadata": {},
   "outputs": [
    {
     "name": "stdout",
     "output_type": "stream",
     "text": [
      "Hello, SHAHZAIB ! You are 22 years old.\n"
     ]
    }
   ],
   "source": [
    "print(\"Hello,\", name, \"! You are\", age, \"years old.\")"
   ]
  },
  {
   "cell_type": "code",
   "execution_count": 59,
   "id": "f4656bdb-aee6-4b8d-99a6-1b21bc291a00",
   "metadata": {},
   "outputs": [
    {
     "name": "stdout",
     "output_type": "stream",
     "text": [
      "Hello, SHAHZAIB! You are 22 years old.\n"
     ]
    }
   ],
   "source": [
    "print(f\"Hello, {name}! You are {age} years old.\")"
   ]
  },
  {
   "cell_type": "markdown",
   "id": "2b188fdf-cbb0-44cd-9a26-edfbbeed3c99",
   "metadata": {},
   "source": [
    "# Control Flow"
   ]
  },
  {
   "cell_type": "markdown",
   "id": "8820914d-aaa4-4594-bc22-f9e38720aac9",
   "metadata": {},
   "source": [
    "# a. if"
   ]
  },
  {
   "cell_type": "code",
   "execution_count": 61,
   "id": "634e4d45-3d9f-4cb7-8ed9-3dd9afa9588b",
   "metadata": {},
   "outputs": [
    {
     "name": "stdout",
     "output_type": "stream",
     "text": [
      "Positive\n"
     ]
    }
   ],
   "source": [
    "num = 20\n",
    "if num > 0:\n",
    "    print(\"Positive\")\n"
   ]
  },
  {
   "cell_type": "markdown",
   "id": "6b2f5b8c-3c8f-4446-a8b2-772cf1422fbe",
   "metadata": {},
   "source": [
    "# b. if-else\n"
   ]
  },
  {
   "cell_type": "code",
   "execution_count": 63,
   "id": "4d2cceeb-e017-441a-817b-e17173ef2df8",
   "metadata": {},
   "outputs": [
    {
     "name": "stdout",
     "output_type": "stream",
     "text": [
      "Positive\n"
     ]
    }
   ],
   "source": [
    "num = 3\n",
    "if num > 0:\n",
    "    print(\"Positive\")\n",
    "else:\n",
    "    print(\"Zero\")"
   ]
  },
  {
   "cell_type": "markdown",
   "id": "8fa3675b-6bbd-4a69-82c2-eb282936aa4a",
   "metadata": {},
   "source": [
    "# c. if-elif-else"
   ]
  },
  {
   "cell_type": "code",
   "execution_count": 65,
   "id": "b250d621-5186-4def-a2e0-5db93fba443d",
   "metadata": {},
   "outputs": [
    {
     "name": "stdout",
     "output_type": "stream",
     "text": [
      "Negative\n"
     ]
    }
   ],
   "source": [
    "num = -1\n",
    "if num > 0:\n",
    "    print(\"Positive\")\n",
    "elif num < 0:\n",
    "    print(\"Negative\")\n",
    "else:\n",
    "    print(\"Zero\")"
   ]
  },
  {
   "cell_type": "markdown",
   "id": "64ebc280-273b-4f7e-bd4e-2663a67d9981",
   "metadata": {},
   "source": [
    "# Loops"
   ]
  },
  {
   "cell_type": "markdown",
   "id": "13f97bf0-bf71-4b73-b768-4b7471277d1d",
   "metadata": {},
   "source": [
    "# for"
   ]
  },
  {
   "cell_type": "code",
   "execution_count": 67,
   "id": "bf38d48d-9de4-4f50-9e0b-7c0cf0d54468",
   "metadata": {},
   "outputs": [
    {
     "name": "stdout",
     "output_type": "stream",
     "text": [
      "0\n",
      "1\n",
      "2\n",
      "3\n",
      "4\n",
      "5\n",
      "6\n",
      "7\n",
      "8\n",
      "9\n",
      "10\n",
      "11\n",
      "12\n",
      "13\n",
      "14\n",
      "15\n",
      "16\n",
      "17\n",
      "18\n",
      "19\n"
     ]
    }
   ],
   "source": [
    "for i in range(20):  \n",
    "    print(i)"
   ]
  },
  {
   "cell_type": "code",
   "execution_count": 70,
   "id": "3d57bbb0-5d53-4996-8e1f-c5c6232bf4bf",
   "metadata": {},
   "outputs": [
    {
     "name": "stdout",
     "output_type": "stream",
     "text": [
      "apple\n",
      "banana\n",
      "cherry\n",
      "MANGO\n",
      "ORANGE\n",
      "WATER MELON\n"
     ]
    }
   ],
   "source": [
    "fruits = [\"apple\", \"banana\", \"cherry\", \"MANGO\" ,\"ORANGE\" , \"WATER MELON\" , ]\n",
    "for fruit in fruits:\n",
    "    print(fruit)"
   ]
  },
  {
   "cell_type": "code",
   "execution_count": 72,
   "id": "c2e4cf02-4978-46ef-9866-7e050a5b7249",
   "metadata": {},
   "outputs": [
    {
     "name": "stdout",
     "output_type": "stream",
     "text": [
      "3\n",
      "6\n",
      "9\n",
      "12\n",
      "15\n",
      "18\n",
      "21\n",
      "24\n",
      "27\n"
     ]
    }
   ],
   "source": [
    "for i in range(3, 30, 3):  \n",
    "    print(i)"
   ]
  },
  {
   "cell_type": "code",
   "execution_count": 73,
   "id": "4acc8401-e0cf-407c-9330-9444e281a72a",
   "metadata": {},
   "outputs": [
    {
     "name": "stdout",
     "output_type": "stream",
     "text": [
      "S\n",
      "H\n",
      "A\n",
      "H\n",
      "Z\n",
      "A\n",
      "I\n",
      "B\n",
      " \n",
      "K\n",
      "H\n",
      "A\n",
      "N\n",
      " \n"
     ]
    }
   ],
   "source": [
    "word = \"SHAHZAIB KHAN \"\n",
    "for letter in word:\n",
    "    print(letter)"
   ]
  },
  {
   "cell_type": "code",
   "execution_count": 75,
   "id": "75638fd5-6f6b-45bc-9978-53f362c2cf9f",
   "metadata": {},
   "outputs": [
    {
     "name": "stdout",
     "output_type": "stream",
     "text": [
      "name : SHAHZAIB\n",
      "age : 22\n",
      "grade : A\n"
     ]
    }
   ],
   "source": [
    "student = {\"name\": \"SHAHZAIB\", \"age\": 22, \"grade\": \"A\"}\n",
    "for key in student:\n",
    "    print(key, \":\", student[key])"
   ]
  },
  {
   "cell_type": "markdown",
   "id": "05b4b387-ccd4-463b-ad76-edea80d0fe8f",
   "metadata": {},
   "source": [
    "# while loop\n"
   ]
  },
  {
   "cell_type": "code",
   "execution_count": 77,
   "id": "5cb8fa90-addd-453b-b6b0-7aeac738ecbd",
   "metadata": {},
   "outputs": [
    {
     "name": "stdout",
     "output_type": "stream",
     "text": [
      "Count: 0\n",
      "Count: 3\n"
     ]
    }
   ],
   "source": [
    "count = 0\n",
    "while count < 6:\n",
    "    print(\"Count:\", count)\n",
    "    count += 3"
   ]
  },
  {
   "cell_type": "code",
   "execution_count": 78,
   "id": "ff36e6e2-d98a-4da5-a4da-d6293ffaf8de",
   "metadata": {},
   "outputs": [
    {
     "name": "stdin",
     "output_type": "stream",
     "text": [
      "Enter password:  goodness\n",
      "Enter password:  goodness\n",
      "Enter password:  goodness\n",
      "Enter password:  goodness\n",
      "Enter password:  access granted\n",
      "Enter password:  gooddness\n",
      "Enter password:  goodness\n",
      "Enter password:  secret\n"
     ]
    },
    {
     "name": "stdout",
     "output_type": "stream",
     "text": [
      "Access granted!\n"
     ]
    }
   ],
   "source": [
    "password = \"\"\n",
    "while password != \"secret\":\n",
    "    password = input(\"Enter password: \")\n",
    "print(\"Access granted!\")"
   ]
  },
  {
   "cell_type": "code",
   "execution_count": 80,
   "id": "663e2bc8-8950-4064-b6ec-7f8c6f4ba467",
   "metadata": {},
   "outputs": [
    {
     "name": "stdin",
     "output_type": "stream",
     "text": [
      "Type 'quit' to exit:  quit\n"
     ]
    }
   ],
   "source": [
    "while True:\n",
    "    user_input = input(\"Type 'quit' to exit: \")\n",
    "    if user_input == \"quit\":\n",
    "        break\n",
    "    print(\"You typed:\", user_input)\n",
    "    "
   ]
  },
  {
   "cell_type": "markdown",
   "id": "9e79fe38-28b5-4ed1-afe3-5e0c4cc37873",
   "metadata": {},
   "source": [
    "# break"
   ]
  },
  {
   "cell_type": "code",
   "execution_count": 82,
   "id": "88e00c97-c030-4e36-aac8-d3de442ab8e0",
   "metadata": {},
   "outputs": [
    {
     "name": "stdout",
     "output_type": "stream",
     "text": [
      "0\n",
      "1\n",
      "2\n",
      "3\n",
      "4\n",
      "5\n",
      "6\n",
      "7\n",
      "8\n",
      "9\n"
     ]
    }
   ],
   "source": [
    "for i in range(20):\n",
    "    if i == 10:\n",
    "        break\n",
    "    print(i) "
   ]
  },
  {
   "cell_type": "markdown",
   "id": "e3018541-90ca-48a4-b5ff-51e73088dd22",
   "metadata": {},
   "source": [
    "# continue"
   ]
  },
  {
   "cell_type": "code",
   "execution_count": 84,
   "id": "c294c01c-3c6b-48b0-82ce-34dcbc001b92",
   "metadata": {},
   "outputs": [
    {
     "name": "stdout",
     "output_type": "stream",
     "text": [
      "0\n",
      "1\n",
      "2\n",
      "3\n",
      "4\n",
      "5\n",
      "6\n",
      "7\n",
      "8\n",
      "9\n"
     ]
    }
   ],
   "source": [
    "for i in range(10):\n",
    "    if i == 10:\n",
    "        continue\n",
    "    print(i)"
   ]
  },
  {
   "cell_type": "markdown",
   "id": "e92f32f0-6a5e-4da7-b016-80383d0ec673",
   "metadata": {},
   "source": [
    "# pass"
   ]
  },
  {
   "cell_type": "code",
   "execution_count": 86,
   "id": "855d2256-c1af-4281-9b27-8b5493df2782",
   "metadata": {},
   "outputs": [
    {
     "name": "stdout",
     "output_type": "stream",
     "text": [
      "0\n",
      "1\n",
      "2\n",
      "3\n",
      "4\n",
      "5\n",
      "6\n",
      "7\n",
      "8\n",
      "9\n",
      "10\n",
      "11\n",
      "12\n",
      "13\n",
      "14\n",
      "15\n",
      "16\n",
      "17\n",
      "18\n",
      "19\n",
      "20\n",
      "21\n",
      "22\n",
      "23\n",
      "24\n",
      "25\n",
      "26\n",
      "27\n",
      "28\n",
      "29\n"
     ]
    }
   ],
   "source": [
    "for i in range(30):\n",
    "    if i < 10:\n",
    "        pass\n",
    "    print(i)"
   ]
  },
  {
   "cell_type": "markdown",
   "id": "25790330-3f61-4fd2-83d1-0d967f3ddd65",
   "metadata": {},
   "source": [
    "# Nested Loops"
   ]
  },
  {
   "cell_type": "code",
   "execution_count": 88,
   "id": "7706c3c1-54dd-478e-a468-5d5df03c0396",
   "metadata": {},
   "outputs": [
    {
     "name": "stdout",
     "output_type": "stream",
     "text": [
      "i=0, j=0\n",
      "i=0, j=1\n",
      "i=0, j=2\n",
      "i=0, j=3\n",
      "i=1, j=0\n",
      "i=1, j=1\n",
      "i=1, j=2\n",
      "i=1, j=3\n",
      "i=2, j=0\n",
      "i=2, j=1\n",
      "i=2, j=2\n",
      "i=2, j=3\n",
      "i=3, j=0\n",
      "i=3, j=1\n",
      "i=3, j=2\n",
      "i=3, j=3\n",
      "i=4, j=0\n",
      "i=4, j=1\n",
      "i=4, j=2\n",
      "i=4, j=3\n",
      "i=5, j=0\n",
      "i=5, j=1\n",
      "i=5, j=2\n",
      "i=5, j=3\n",
      "i=6, j=0\n",
      "i=6, j=1\n",
      "i=6, j=2\n",
      "i=6, j=3\n",
      "i=7, j=0\n",
      "i=7, j=1\n",
      "i=7, j=2\n",
      "i=7, j=3\n",
      "i=8, j=0\n",
      "i=8, j=1\n",
      "i=8, j=2\n",
      "i=8, j=3\n",
      "i=9, j=0\n",
      "i=9, j=1\n",
      "i=9, j=2\n",
      "i=9, j=3\n"
     ]
    }
   ],
   "source": [
    "for i in range(10):       \n",
    "    for j in range(4):   \n",
    "        print(f\"i={i}, j={j}\")"
   ]
  },
  {
   "cell_type": "markdown",
   "id": "0e10b2eb-e1ac-4804-ab5e-10e0eb40885f",
   "metadata": {},
   "source": [
    "# Sum of numbers in a list"
   ]
  },
  {
   "cell_type": "code",
   "execution_count": 90,
   "id": "1b06ab13-ab85-4019-b68d-3527b09fbabb",
   "metadata": {},
   "outputs": [
    {
     "name": "stdout",
     "output_type": "stream",
     "text": [
      "Sum: 68555\n"
     ]
    }
   ],
   "source": [
    "numbers = [1111, 22222, 333,444, 44445]\n",
    "total = 0\n",
    "for num in numbers:\n",
    "    total += num\n",
    "print(\"Sum:\", total) "
   ]
  },
  {
   "cell_type": "markdown",
   "id": "eaa83f2e-2324-43af-ac0a-694cf5c0a6fd",
   "metadata": {},
   "source": [
    "# Finding even numbers\n"
   ]
  },
  {
   "cell_type": "code",
   "execution_count": 92,
   "id": "30e7cd90-b4be-4cd1-b5e6-6f12859ee1e1",
   "metadata": {},
   "outputs": [
    {
     "name": "stdout",
     "output_type": "stream",
     "text": [
      "0 is even\n",
      "2 is even\n",
      "4 is even\n",
      "6 is even\n",
      "8 is even\n",
      "10 is even\n",
      "12 is even\n",
      "14 is even\n",
      "16 is even\n",
      "18 is even\n"
     ]
    }
   ],
   "source": [
    "for i in range(20):\n",
    "    if i % 2 == 0:\n",
    "        print(i, \"is even\")\n"
   ]
  },
  {
   "cell_type": "markdown",
   "id": "bdc680f0-240b-4643-b39c-106437bbc2bf",
   "metadata": {},
   "source": [
    "# Multiplication table"
   ]
  },
  {
   "cell_type": "code",
   "execution_count": 95,
   "id": "0effde62-a3d5-45fa-a117-b5c72ed4bf69",
   "metadata": {},
   "outputs": [
    {
     "name": "stdout",
     "output_type": "stream",
     "text": [
      "(1,) x 1 = (1,)\n",
      "(1,) x 2 = (1, 1)\n",
      "(1,) x 3 = (1, 1, 1)\n",
      "(1,) x 4 = (1, 1, 1, 1)\n",
      "(1,) x 5 = (1, 1, 1, 1, 1)\n",
      "(1,) x 6 = (1, 1, 1, 1, 1, 1)\n",
      "(1,) x 7 = (1, 1, 1, 1, 1, 1, 1)\n",
      "(1,) x 8 = (1, 1, 1, 1, 1, 1, 1, 1)\n",
      "(1,) x 9 = (1, 1, 1, 1, 1, 1, 1, 1, 1)\n",
      "(1,) x 10 = (1, 1, 1, 1, 1, 1, 1, 1, 1, 1)\n",
      "(1,) x 11 = (1, 1, 1, 1, 1, 1, 1, 1, 1, 1, 1)\n"
     ]
    }
   ],
   "source": [
    "n = 1 ,\n",
    "2,\n",
    "3 ,\n",
    "4 ,\n",
    "5 ,\n",
    "6 ,\n",
    "7, \n",
    "8 ,\n",
    "9 ,\n",
    "10 ,\n",
    "11 ,\n",
    "12\n",
    "for i in range(1, 12):\n",
    "    print(f\"{n} x {i} = {n * i}\")"
   ]
  },
  {
   "cell_type": "code",
   "execution_count": 97,
   "id": "18b0d4e2-8739-4f61-b819-3745d9611edc",
   "metadata": {},
   "outputs": [
    {
     "name": "stdout",
     "output_type": "stream",
     "text": [
      "33 x 1 = 33\n",
      "33 x 2 = 66\n",
      "33 x 3 = 99\n",
      "33 x 4 = 132\n",
      "33 x 5 = 165\n",
      "33 x 6 = 198\n",
      "33 x 7 = 231\n",
      "33 x 8 = 264\n",
      "33 x 9 = 297\n",
      "33 x 10 = 330\n"
     ]
    }
   ],
   "source": [
    "\n",
    "n = 33\n",
    "for i in range(1, 11):\n",
    "    print(f\"{n} x {i} = {n * i}\")"
   ]
  },
  {
   "cell_type": "code",
   "execution_count": 99,
   "id": "79dfc6f0-8f24-4ebc-882f-a3a2c93a0a8b",
   "metadata": {},
   "outputs": [
    {
     "name": "stdout",
     "output_type": "stream",
     "text": [
      "2 x 1 = 2\n",
      "2 x 2 = 4\n",
      "2 x 3 = 6\n",
      "2 x 4 = 8\n",
      "2 x 5 = 10\n",
      "2 x 6 = 12\n",
      "2 x 7 = 14\n",
      "2 x 8 = 16\n",
      "2 x 9 = 18\n",
      "2 x 10 = 20\n"
     ]
    }
   ],
   "source": [
    "n = 2\n",
    "for i in range(1, 11):\n",
    "    print(f\"{n} x {i} = {n * i}\")"
   ]
  },
  {
   "cell_type": "code",
   "execution_count": 102,
   "id": "41302e5a-7b99-47d2-998c-4f18e886bf65",
   "metadata": {},
   "outputs": [
    {
     "name": "stdout",
     "output_type": "stream",
     "text": [
      "3 x 1 = 3\n",
      "3 x 2 = 6\n",
      "3 x 3 = 9\n",
      "3 x 4 = 12\n",
      "3 x 5 = 15\n",
      "3 x 6 = 18\n",
      "3 x 7 = 21\n",
      "3 x 8 = 24\n",
      "3 x 9 = 27\n",
      "3 x 10 = 30\n"
     ]
    }
   ],
   "source": [
    "n = 3\n",
    "for i in range(1, 11):\n",
    "    print(f\"{n} x {i} = {n * i}\")"
   ]
  },
  {
   "cell_type": "code",
   "execution_count": null,
   "id": "ef8dd56b-1fc7-4a91-8150-70315e663ba8",
   "metadata": {},
   "outputs": [],
   "source": []
  }
 ],
 "metadata": {
  "kernelspec": {
   "display_name": "Python 3 (ipykernel)",
   "language": "python",
   "name": "python3"
  },
  "language_info": {
   "codemirror_mode": {
    "name": "ipython",
    "version": 3
   },
   "file_extension": ".py",
   "mimetype": "text/x-python",
   "name": "python",
   "nbconvert_exporter": "python",
   "pygments_lexer": "ipython3",
   "version": "3.13.5"
  }
 },
 "nbformat": 4,
 "nbformat_minor": 5
}
