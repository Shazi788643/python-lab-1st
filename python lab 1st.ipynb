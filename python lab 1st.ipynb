{
 "cells": [
  {
   "cell_type": "markdown",
   "id": "88ed15dc-9d02-4e98-947d-d182603121c8",
   "metadata": {},
   "source": [
    "# Programing : Python"
   ]
  },
  {
   "cell_type": "code",
   "execution_count": 2,
   "id": "024b8567-f8f0-4c42-9df4-0b6c2a5c2f65",
   "metadata": {},
   "outputs": [
    {
     "name": "stdout",
     "output_type": "stream",
     "text": [
      "welcome to jupyter\n"
     ]
    }
   ],
   "source": [
    "print ('welcome to jupyter')"
   ]
  },
  {
   "cell_type": "code",
   "execution_count": 4,
   "id": "6c6d550a-bb04-4554-a0b5-83143c43018d",
   "metadata": {},
   "outputs": [
    {
     "name": "stdout",
     "output_type": "stream",
     "text": [
      "22\n"
     ]
    }
   ],
   "source": [
    "age = 22 \n",
    "print(age)"
   ]
  },
  {
   "cell_type": "markdown",
   "id": "1d8320d4-1b64-40f2-a868-54b0cb59b350",
   "metadata": {},
   "source": [
    "# DATA TYPE"
   ]
  },
  {
   "cell_type": "code",
   "execution_count": 6,
   "id": "f13987fd-96ac-46b0-ad4d-baf99f34a1a1",
   "metadata": {},
   "outputs": [
    {
     "data": {
      "text/plain": [
       "int"
      ]
     },
     "execution_count": 6,
     "metadata": {},
     "output_type": "execute_result"
    }
   ],
   "source": [
    "type(age)"
   ]
  },
  {
   "cell_type": "code",
   "execution_count": 9,
   "id": "876b0aea-f63a-4017-b781-1b7ce62e5758",
   "metadata": {},
   "outputs": [
    {
     "name": "stdout",
     "output_type": "stream",
     "text": [
      "3.0\n"
     ]
    }
   ],
   "source": [
    "cgpa = 3.0\n",
    "print(cgpa)"
   ]
  },
  {
   "cell_type": "code",
   "execution_count": 11,
   "id": "e9e612a5-b228-4438-ba54-9c558114ad2a",
   "metadata": {},
   "outputs": [
    {
     "data": {
      "text/plain": [
       "float"
      ]
     },
     "execution_count": 11,
     "metadata": {},
     "output_type": "execute_result"
    }
   ],
   "source": [
    "type(cgpa)"
   ]
  },
  {
   "cell_type": "code",
   "execution_count": 13,
   "id": "0c029c9b-558f-4adb-a3b2-b9f536cf1f8c",
   "metadata": {},
   "outputs": [
    {
     "name": "stdout",
     "output_type": "stream",
     "text": [
      "shahzaib\n"
     ]
    }
   ],
   "source": [
    "name = 'shahzaib'\n",
    "print(name)"
   ]
  },
  {
   "cell_type": "code",
   "execution_count": 15,
   "id": "abde9536-c968-43b9-af6d-b0183250b0de",
   "metadata": {},
   "outputs": [
    {
     "data": {
      "text/plain": [
       "str"
      ]
     },
     "execution_count": 15,
     "metadata": {},
     "output_type": "execute_result"
    }
   ],
   "source": [
    "type(name)"
   ]
  },
  {
   "cell_type": "markdown",
   "id": "bfce9c6e-b847-40fa-bcc1-66e0882963ab",
   "metadata": {},
   "source": [
    "# GETTING USER'S INPUT"
   ]
  },
  {
   "cell_type": "code",
   "execution_count": 8,
   "id": "886a1dc7-d67e-4462-852d-8a45359f1113",
   "metadata": {},
   "outputs": [
    {
     "name": "stdin",
     "output_type": "stream",
     "text": [
      "Please enter your id name:  shahzaib\n"
     ]
    },
    {
     "name": "stdout",
     "output_type": "stream",
     "text": [
      "shahzaib\n"
     ]
    }
   ],
   "source": [
    "\n",
    "f_name = input(\"Please enter your id name: \")\n",
    "print(f_name)"
   ]
  },
  {
   "cell_type": "code",
   "execution_count": 10,
   "id": "238fe000-2dbc-4370-b1bb-487517bb7147",
   "metadata": {},
   "outputs": [
    {
     "data": {
      "text/plain": [
       "str"
      ]
     },
     "execution_count": 10,
     "metadata": {},
     "output_type": "execute_result"
    }
   ],
   "source": [
    "type(f_name)"
   ]
  },
  {
   "cell_type": "markdown",
   "id": "bf101e2b-64e0-4894-8a8e-66e35a79594c",
   "metadata": {},
   "source": [
    "# converting input to integer"
   ]
  },
  {
   "cell_type": "code",
   "execution_count": 12,
   "id": "f8d197a1-416c-4937-918f-636d1b6e807d",
   "metadata": {},
   "outputs": [
    {
     "name": "stdin",
     "output_type": "stream",
     "text": [
      "GPA:  3.97\n"
     ]
    },
    {
     "data": {
      "text/plain": [
       "float"
      ]
     },
     "execution_count": 12,
     "metadata": {},
     "output_type": "execute_result"
    }
   ],
   "source": [
    "cgpa = float(input(\"GPA: \"))\n",
    "type(cgpa)"
   ]
  },
  {
   "cell_type": "code",
   "execution_count": 14,
   "id": "dcfca0a6-c652-4523-8b59-05fcfdacc248",
   "metadata": {},
   "outputs": [
    {
     "name": "stdout",
     "output_type": "stream",
     "text": [
      "(7+4j)\n",
      "<class 'complex'>\n"
     ]
    }
   ],
   "source": [
    "x = 7 + 4j\n",
    "print(x)\n",
    "print(type(x))"
   ]
  },
  {
   "cell_type": "code",
   "execution_count": 15,
   "id": "2d37c752-9ca3-425f-989b-2495a3c95aea",
   "metadata": {},
   "outputs": [],
   "source": [
    "s = 50\n",
    "a = 40"
   ]
  },
  {
   "cell_type": "markdown",
   "id": "6f17b51e-f8e5-4c25-8e95-ccf3db5be756",
   "metadata": {},
   "source": [
    "# SUM"
   ]
  },
  {
   "cell_type": "code",
   "execution_count": 17,
   "id": "290737eb-d2cb-4623-bccb-456b51bf5059",
   "metadata": {},
   "outputs": [
    {
     "name": "stdout",
     "output_type": "stream",
     "text": [
      "90\n"
     ]
    }
   ],
   "source": [
    "sum = (s + a)\n",
    "print(sum)"
   ]
  },
  {
   "cell_type": "markdown",
   "id": "a405ef0a-100c-4cde-8e64-f50d97195e01",
   "metadata": {},
   "source": [
    "# SUBTRACT"
   ]
  },
  {
   "cell_type": "code",
   "execution_count": 19,
   "id": "36e47b0a-932a-4f67-b53a-c29940e3cf82",
   "metadata": {},
   "outputs": [
    {
     "name": "stdout",
     "output_type": "stream",
     "text": [
      "10\n"
     ]
    }
   ],
   "source": [
    "subtract = ( s-a)\n",
    "print (subtract)"
   ]
  },
  {
   "cell_type": "markdown",
   "id": "0d48866b-5f84-497f-b296-1212d800bf9e",
   "metadata": {},
   "source": [
    "# multiply"
   ]
  },
  {
   "cell_type": "code",
   "execution_count": 21,
   "id": "334785ad-874f-49b4-81f1-a55bf2c4e819",
   "metadata": {},
   "outputs": [
    {
     "name": "stdout",
     "output_type": "stream",
     "text": [
      "2000\n"
     ]
    }
   ],
   "source": [
    "multiply = ( s * a)\n",
    "print (multiply)"
   ]
  },
  {
   "cell_type": "markdown",
   "id": "2477822e-c3f3-4974-9ac9-0d78517a55ea",
   "metadata": {},
   "source": [
    "# division"
   ]
  },
  {
   "cell_type": "code",
   "execution_count": 23,
   "id": "527c647f-304a-4e92-b87a-e341309ae603",
   "metadata": {},
   "outputs": [
    {
     "name": "stdout",
     "output_type": "stream",
     "text": [
      "1.25\n"
     ]
    }
   ],
   "source": [
    "division = (s / a)\n",
    "print (division)"
   ]
  },
  {
   "cell_type": "code",
   "execution_count": 25,
   "id": "59901787-ac4a-4d2e-8e14-20aaa49b0e05",
   "metadata": {},
   "outputs": [
    {
     "name": "stdout",
     "output_type": "stream",
     "text": [
      "Addition: 150\n",
      "Subtraction: 50\n",
      "Multiplication: 5000\n",
      "Division: 2.0\n"
     ]
    }
   ],
   "source": [
    "num1 = 100\n",
    "num2 = 50\n",
    "\n",
    "print(f\"Addition: {num1 + num2}\")\n",
    "print(f\"Subtraction: {num1 - num2}\")\n",
    "print(f\"Multiplication: {num1 * num2}\")\n",
    "print(f\"Division: {num1 / num2}\")"
   ]
  },
  {
   "cell_type": "markdown",
   "id": "94e2ca89-ab3c-4f60-8f6b-a1fd666e39c6",
   "metadata": {},
   "source": [
    "# Changing Data Types Explicitly & Implicitly"
   ]
  },
  {
   "cell_type": "markdown",
   "id": "1fe6d0e2-415a-4753-91f3-983ef00aa20f",
   "metadata": {},
   "source": [
    "# 1. Implicit Conversion (Automatic)"
   ]
  },
  {
   "cell_type": "code",
   "execution_count": 27,
   "id": "7964740a-e825-4165-8501-d21f4060c79e",
   "metadata": {},
   "outputs": [
    {
     "name": "stdout",
     "output_type": "stream",
     "text": [
      "Result: 15.5 (Type: <class 'float'>)\n"
     ]
    }
   ],
   "source": [
    "num_int = 12     \n",
    "num_float = 3.5\n",
    "result = num_int + num_float  \n",
    "print(f\"Result: {result} (Type: {type(result)})\")"
   ]
  },
  {
   "cell_type": "markdown",
   "id": "efe9d2b0-7bf6-4090-9765-8674f0df52f8",
   "metadata": {},
   "source": [
    "# 2. Explicit Conversion (Manual)\n"
   ]
  },
  {
   "cell_type": "code",
   "execution_count": 29,
   "id": "49f13323-4227-4181-8ea9-d6586197f191",
   "metadata": {},
   "outputs": [
    {
     "name": "stdout",
     "output_type": "stream",
     "text": [
      "<class 'int'>\n"
     ]
    }
   ],
   "source": [
    "a = '100' \n",
    "a = int(a)\n",
    "print(type(a))"
   ]
  },
  {
   "cell_type": "code",
   "execution_count": 31,
   "id": "adcbb75a-1eb4-497d-859d-68ea766a21f3",
   "metadata": {},
   "outputs": [
    {
     "name": "stdout",
     "output_type": "stream",
     "text": [
      "<class 'float'>\n"
     ]
    }
   ],
   "source": [
    "a = '10' \n",
    "a = float(a)\n",
    "print(type(a))"
   ]
  },
  {
   "cell_type": "code",
   "execution_count": 33,
   "id": "452e9e0b-a33f-4729-9419-1742599622aa",
   "metadata": {},
   "outputs": [
    {
     "name": "stdout",
     "output_type": "stream",
     "text": [
      "<class 'bool'>\n"
     ]
    }
   ],
   "source": [
    "s = 'false'\n",
    "s = bool(s)\n",
    "print(type(s)) "
   ]
  },
  {
   "cell_type": "code",
   "execution_count": 35,
   "id": "21f307be-95f6-4e14-bd34-f3af64346b19",
   "metadata": {},
   "outputs": [
    {
     "name": "stdout",
     "output_type": "stream",
     "text": [
      "<class 'complex'>\n"
     ]
    }
   ],
   "source": [
    "s = '4+9j'\n",
    "s = complex(s)\n",
    "print(type(s))"
   ]
  },
  {
   "cell_type": "code",
   "execution_count": 39,
   "id": "a3c823c0-c03b-4675-90d9-9128745136a5",
   "metadata": {},
   "outputs": [
    {
     "name": "stdout",
     "output_type": "stream",
     "text": [
      "<class 'str'>\n"
     ]
    }
   ],
   "source": [
    "a = 122\n",
    "a = str(a)\n",
    "print(type(a))"
   ]
  },
  {
   "cell_type": "code",
   "execution_count": 41,
   "id": "d9820db3-d3c8-407e-a6cc-5a640245a074",
   "metadata": {},
   "outputs": [
    {
     "name": "stdout",
     "output_type": "stream",
     "text": [
      "<class 'complex'>\n"
     ]
    }
   ],
   "source": [
    "a = 133\n",
    "a = complex(a)\n",
    "print(type(a)) "
   ]
  },
  {
   "cell_type": "code",
   "execution_count": 43,
   "id": "038676fa-73a8-4b16-9cff-8c9a6d004715",
   "metadata": {},
   "outputs": [
    {
     "name": "stdout",
     "output_type": "stream",
     "text": [
      "<class 'bool'>\n"
     ]
    }
   ],
   "source": [
    "a = 40\n",
    "a = bool(a)\n",
    "print(type(a))"
   ]
  },
  {
   "cell_type": "markdown",
   "id": "91685793-e2f7-4f6a-9435-0be4003e5bca",
   "metadata": {},
   "source": [
    "# 3. Common Use Cases"
   ]
  },
  {
   "cell_type": "code",
   "execution_count": 45,
   "id": "ca9f40c5-822c-4522-923d-70b85b224a35",
   "metadata": {},
   "outputs": [
    {
     "name": "stdin",
     "output_type": "stream",
     "text": [
      "Enter your age:  22\n"
     ]
    },
    {
     "name": "stdout",
     "output_type": "stream",
     "text": [
      "<class 'str'>\n"
     ]
    }
   ],
   "source": [
    "age = input(\"Enter your age: \")\n",
    "print(type(age))"
   ]
  },
  {
   "cell_type": "code",
   "execution_count": 47,
   "id": "7380f4e9-20b9-4985-bdac-0b9568a2cc51",
   "metadata": {},
   "outputs": [
    {
     "name": "stdin",
     "output_type": "stream",
     "text": [
      "Enter age:  22\n"
     ]
    },
    {
     "name": "stdout",
     "output_type": "stream",
     "text": [
      "<class 'int'>\n"
     ]
    }
   ],
   "source": [
    "age = int(input(\"Enter age: \"))  # Convert input to integer\n",
    "print(type(age))"
   ]
  },
  {
   "cell_type": "markdown",
   "id": "7e6110b1-491b-4799-8b26-a640710c9c20",
   "metadata": {},
   "source": [
    "# String Formatting\n"
   ]
  },
  {
   "cell_type": "code",
   "execution_count": 49,
   "id": "b1d45719-f983-4b45-aca5-91f8d2e65359",
   "metadata": {},
   "outputs": [
    {
     "name": "stdout",
     "output_type": "stream",
     "text": [
      "Value: 22\n"
     ]
    }
   ],
   "source": [
    "print(\"Value: \" + str(22))"
   ]
  },
  {
   "cell_type": "markdown",
   "id": "a95bee80-7923-40d6-a4c7-3df1865f9e04",
   "metadata": {},
   "source": [
    "# String"
   ]
  },
  {
   "cell_type": "markdown",
   "id": "30928c3e-cc8b-4c9b-a036-08d63956e59b",
   "metadata": {},
   "source": [
    "# Concatenated string"
   ]
  },
  {
   "cell_type": "code",
   "execution_count": 51,
   "id": "f595e9fa-9479-4ab0-b2fe-fd53e46b9c3d",
   "metadata": {},
   "outputs": [
    {
     "name": "stdout",
     "output_type": "stream",
     "text": [
      "I am student at BS Computer science Risalpur.\n"
     ]
    }
   ],
   "source": [
    "str1 = \"I am student at BS Computer science\"\n",
    "str2 = \"Risalpur\"\n",
    "\n",
    "full = str1 + \" \" + str2 + \".\"\n",
    "print(full)\n"
   ]
  },
  {
   "cell_type": "markdown",
   "id": "22dc1b5b-18e5-43b3-8bc1-24d2c6c4a592",
   "metadata": {},
   "source": [
    "# Upper Case"
   ]
  },
  {
   "cell_type": "code",
   "execution_count": 53,
   "id": "4a4cfc53-b00d-4ef3-aa1a-8cbdc88dd005",
   "metadata": {},
   "outputs": [
    {
     "data": {
      "text/plain": [
       "'I AM STUDENT AT BS COMPUTER SCIENCE RISALPUR.'"
      ]
     },
     "execution_count": 53,
     "metadata": {},
     "output_type": "execute_result"
    }
   ],
   "source": [
    "full.upper()\n"
   ]
  },
  {
   "cell_type": "markdown",
   "id": "8cf9d160-ee10-483e-b989-f46cc7abe56e",
   "metadata": {},
   "source": [
    "# Lower Case"
   ]
  },
  {
   "cell_type": "code",
   "execution_count": 54,
   "id": "2e9327da-6b74-4e2a-8697-13aa09b2d15c",
   "metadata": {},
   "outputs": [
    {
     "data": {
      "text/plain": [
       "'i am student at bs computer science risalpur.'"
      ]
     },
     "execution_count": 54,
     "metadata": {},
     "output_type": "execute_result"
    }
   ],
   "source": [
    "full.lower()"
   ]
  },
  {
   "cell_type": "markdown",
   "id": "6fb783c9-41e6-4192-bb55-a285cd467fbf",
   "metadata": {},
   "source": [
    "# Capitalize"
   ]
  },
  {
   "cell_type": "code",
   "execution_count": 56,
   "id": "ebeaa95b-3fe6-4828-939b-7b95c8f03783",
   "metadata": {},
   "outputs": [
    {
     "data": {
      "text/plain": [
       "'I am student at bs computer science risalpur.'"
      ]
     },
     "execution_count": 56,
     "metadata": {},
     "output_type": "execute_result"
    }
   ],
   "source": [
    "full.capitalize()"
   ]
  },
  {
   "cell_type": "markdown",
   "id": "12ddced9-0ed9-4b5f-8005-e6b1fac4ae27",
   "metadata": {},
   "source": [
    "# Capital Each Word\n"
   ]
  },
  {
   "cell_type": "code",
   "execution_count": 58,
   "id": "df77411e-c270-43db-bfc1-68ab9f4ff3f8",
   "metadata": {},
   "outputs": [
    {
     "data": {
      "text/plain": [
       "'I Am Student At Bs Computer Science Risalpur.'"
      ]
     },
     "execution_count": 58,
     "metadata": {},
     "output_type": "execute_result"
    }
   ],
   "source": [
    "full.title()\n"
   ]
  },
  {
   "cell_type": "markdown",
   "id": "837ad599-2ca9-4b62-a5e4-1df23355d7ff",
   "metadata": {},
   "source": [
    "# Strip"
   ]
  },
  {
   "cell_type": "code",
   "execution_count": 60,
   "id": "16ff90bc-cfc6-4828-9b38-ad9dd0adcfb4",
   "metadata": {},
   "outputs": [
    {
     "data": {
      "text/plain": [
       "'I am student at BS Computer science Risalpur.'"
      ]
     },
     "execution_count": 60,
     "metadata": {},
     "output_type": "execute_result"
    }
   ],
   "source": [
    "full.strip()"
   ]
  },
  {
   "cell_type": "markdown",
   "id": "afdd2783-355b-4d58-a51a-6dce9764d64b",
   "metadata": {},
   "source": [
    "# Replace"
   ]
  },
  {
   "cell_type": "code",
   "execution_count": 62,
   "id": "08473db0-985d-4212-900a-71d9a1f72435",
   "metadata": {},
   "outputs": [
    {
     "data": {
      "text/plain": [
       "'I am student at BS Computer science Nowshera.'"
      ]
     },
     "execution_count": 62,
     "metadata": {},
     "output_type": "execute_result"
    }
   ],
   "source": [
    "full.replace(\"Risalpur\", \"Nowshera\")"
   ]
  },
  {
   "cell_type": "markdown",
   "id": "430cfcac-2dd4-4a64-97dc-7b0e3dacf186",
   "metadata": {},
   "source": [
    "# Find"
   ]
  },
  {
   "cell_type": "code",
   "execution_count": 64,
   "id": "602e78fb-66f4-44d3-8b84-a1079aec14ac",
   "metadata": {},
   "outputs": [
    {
     "data": {
      "text/plain": [
       "-1"
      ]
     },
     "execution_count": 64,
     "metadata": {},
     "output_type": "execute_result"
    }
   ],
   "source": [
    "full.find('Nowshera')"
   ]
  },
  {
   "cell_type": "markdown",
   "id": "66b0c538-fe5e-4c84-a2f3-650a965d314d",
   "metadata": {},
   "source": [
    "# Indexing"
   ]
  },
  {
   "cell_type": "code",
   "execution_count": 66,
   "id": "4acc1850-5ef2-4df2-a5e0-851ebc616bd7",
   "metadata": {},
   "outputs": [
    {
     "data": {
      "text/plain": [
       "' '"
      ]
     },
     "execution_count": 66,
     "metadata": {},
     "output_type": "execute_result"
    }
   ],
   "source": [
    "full[1]\n"
   ]
  },
  {
   "cell_type": "code",
   "execution_count": 68,
   "id": "bbfd893e-1edc-4676-b877-8903591433b0",
   "metadata": {},
   "outputs": [
    {
     "data": {
      "text/plain": [
       "'I'"
      ]
     },
     "execution_count": 68,
     "metadata": {},
     "output_type": "execute_result"
    }
   ],
   "source": [
    "full[0]\n"
   ]
  },
  {
   "cell_type": "code",
   "execution_count": 71,
   "id": "c817d83c-5522-43db-b697-73d2871f876f",
   "metadata": {},
   "outputs": [
    {
     "data": {
      "text/plain": [
       "'I am student at BS Computer science Risalpur.'"
      ]
     },
     "execution_count": 71,
     "metadata": {},
     "output_type": "execute_result"
    }
   ],
   "source": [
    "full[:59]"
   ]
  },
  {
   "cell_type": "code",
   "execution_count": 73,
   "id": "819e16ff-06c2-45ad-9de9-6fba08ff1485",
   "metadata": {},
   "outputs": [
    {
     "data": {
      "text/plain": [
       "'am student at BS Computer science Risalpur'"
      ]
     },
     "execution_count": 73,
     "metadata": {},
     "output_type": "execute_result"
    }
   ],
   "source": [
    "full[2:-1]\n"
   ]
  },
  {
   "cell_type": "markdown",
   "id": "275026d2-1a26-41e8-9296-22ce436cf14a",
   "metadata": {},
   "source": [
    "# Bool"
   ]
  },
  {
   "cell_type": "code",
   "execution_count": 77,
   "id": "e103d0af-05f0-4bca-a816-967ea6ef4733",
   "metadata": {},
   "outputs": [
    {
     "name": "stdout",
     "output_type": "stream",
     "text": [
      "It is Sunny\n"
     ]
    }
   ],
   "source": [
    "is_sunny = True\n",
    "\n",
    "if is_sunny:\n",
    "    print(\"It is Sunny\")\n",
    "else:\n",
    "    print(\"It is Raining\")"
   ]
  },
  {
   "cell_type": "code",
   "execution_count": 79,
   "id": "4b9a45ec-78ff-498f-941f-dd288c9ff38a",
   "metadata": {},
   "outputs": [
    {
     "name": "stdout",
     "output_type": "stream",
     "text": [
      "It is raining\n"
     ]
    }
   ],
   "source": [
    "is_raining = False\n",
    "\n",
    "if is_sunny and is_raining:\n",
    "    print(\"It is Sunny\")\n",
    "    \n",
    "if is_sunny or is_raining:\n",
    "    print(\"It is raining\")"
   ]
  },
  {
   "cell_type": "markdown",
   "id": "ce31b8db-d33e-4898-a907-b9b7a1dee23a",
   "metadata": {},
   "source": [
    "# 1. Creating Lists"
   ]
  },
  {
   "cell_type": "code",
   "execution_count": 80,
   "id": "4b1eb9a5-2494-4753-a5f2-0073336fd349",
   "metadata": {},
   "outputs": [
    {
     "name": "stdout",
     "output_type": "stream",
     "text": [
      "[]\n"
     ]
    }
   ],
   "source": [
    "my_list = []\n",
    "print(my_list)"
   ]
  },
  {
   "cell_type": "code",
   "execution_count": 82,
   "id": "89dda5a9-75f4-464b-b0cd-632424fa31dd",
   "metadata": {},
   "outputs": [
    {
     "name": "stdout",
     "output_type": "stream",
     "text": [
      "[10, 20, 30, 40, 90]\n"
     ]
    }
   ],
   "source": [
    "numbers = [10, 20, 30, 40, 90]\n",
    "print(numbers) "
   ]
  },
  {
   "cell_type": "code",
   "execution_count": 84,
   "id": "ba1e99b2-d2f3-4338-8c58-4e053a00dd21",
   "metadata": {},
   "outputs": [
    {
     "name": "stdout",
     "output_type": "stream",
     "text": [
      "['mango', 'banana', 'orange']\n"
     ]
    }
   ],
   "source": [
    "fruits = [\"mango\", \"banana\", \"orange\"]\n",
    "print(fruits)"
   ]
  },
  {
   "cell_type": "code",
   "execution_count": 86,
   "id": "5ea4a790-ecae-4cec-905b-26b8986e6107",
   "metadata": {},
   "outputs": [
    {
     "name": "stdout",
     "output_type": "stream",
     "text": [
      "[1, 'hello', 6.15, True]\n"
     ]
    }
   ],
   "source": [
    "mixed_list = [1, \"hello\", 6.15, True]\n",
    "print(mixed_list)"
   ]
  },
  {
   "cell_type": "code",
   "execution_count": 88,
   "id": "489e9262-d278-4b5e-aa46-d93a66d545bb",
   "metadata": {},
   "outputs": [
    {
     "name": "stdout",
     "output_type": "stream",
     "text": [
      "[[10, 21, 32], [44, 55, 67], [70, 80, 90]]\n"
     ]
    }
   ],
   "source": [
    "matrix = [[10, 21, 32], [44, 55, 67], [70, 80, 90]]\n",
    "print(matrix)"
   ]
  },
  {
   "cell_type": "markdown",
   "id": "04a666dc-65b5-4b76-8dba-24c1e1ad1d3c",
   "metadata": {},
   "source": [
    "# 2. Accessing List Elements (Indexing)"
   ]
  },
  {
   "cell_type": "code",
   "execution_count": 90,
   "id": "2cd1b0d7-5228-4b2a-8c49-4ee227f7ba02",
   "metadata": {},
   "outputs": [
    {
     "name": "stdout",
     "output_type": "stream",
     "text": [
      "water melon\n",
      "mango\n",
      "date\n",
      "orange\n"
     ]
    }
   ],
   "source": [
    "fruits = [\"water melon\", \"orange\", \"mango\", \"date\"]\n",
    "\n",
    "print(fruits[0])   \n",
    "print(fruits[2])   \n",
    "print(fruits[-1])  \n",
    "print(fruits[-3])"
   ]
  },
  {
   "cell_type": "code",
   "execution_count": 92,
   "id": "442966ed-4fa1-4660-a1f9-d63575028e1f",
   "metadata": {},
   "outputs": [
    {
     "name": "stdout",
     "output_type": "stream",
     "text": [
      "21\n"
     ]
    }
   ],
   "source": [
    "\n",
    "print(matrix[0][1])"
   ]
  },
  {
   "cell_type": "markdown",
   "id": "2c8644c9-dc98-4157-aee9-5e5f096b510e",
   "metadata": {},
   "source": [
    "# 3. Slicing Lists"
   ]
  },
  {
   "cell_type": "code",
   "execution_count": 94,
   "id": "87c9d0b9-a733-4abd-b882-0b2655661ba8",
   "metadata": {},
   "outputs": [
    {
     "name": "stdout",
     "output_type": "stream",
     "text": [
      "[22, 32, 42, 53, 63]\n",
      "[0, 14, 22, 32, 42]\n",
      "[53, 63, 74, 85, 96]\n",
      "[0, 14, 22, 32, 42, 53, 63, 74, 85, 96]\n",
      "[0, 22, 42, 63, 85]\n",
      "[96, 85, 74, 63, 53, 42, 32, 22, 14, 0]\n"
     ]
    }
   ],
   "source": [
    "numbers = [0, 14, 22, 32, 42, 53, 63, 74, 85, 96]\n",
    "\n",
    "print(numbers[2:7])    \n",
    "print(numbers[:5])     \n",
    "print(numbers[5:])     \n",
    "print(numbers[:])      \n",
    "print(numbers[::2])    \n",
    "print(numbers[::-1])   \n"
   ]
  },
  {
   "cell_type": "markdown",
   "id": "d32bc8dc-2b2b-4192-bc10-054a4daf006a",
   "metadata": {},
   "source": [
    "# 4. Modifying Lists"
   ]
  },
  {
   "cell_type": "markdown",
   "id": "3e9dcfc8-4698-4e97-8b56-d96dc5d9ab0c",
   "metadata": {},
   "source": [
    "# Changing Elements\n"
   ]
  },
  {
   "cell_type": "code",
   "execution_count": 96,
   "id": "f349dd3f-08a1-474b-ae05-67decc6f7bfa",
   "metadata": {},
   "outputs": [
    {
     "name": "stdout",
     "output_type": "stream",
     "text": [
      "['straberry', 'orange', 'banana']\n"
     ]
    }
   ],
   "source": [
    "fruits = [\"straberry\", \"water melon\", \"banana\"]\n",
    "fruits[1] = \"orange\" \n",
    "print(fruits) "
   ]
  },
  {
   "cell_type": "markdown",
   "id": "430485c9-5fce-4125-8f4d-52e0522eba97",
   "metadata": {},
   "source": [
    "# Adding Elements"
   ]
  },
  {
   "cell_type": "code",
   "execution_count": 102,
   "id": "e5bf800e-7715-4599-8668-a0620c472d06",
   "metadata": {},
   "outputs": [
    {
     "name": "stdout",
     "output_type": "stream",
     "text": [
      "[23, 32, 45, 43]\n"
     ]
    }
   ],
   "source": [
    "my_list = [23, 32, 45]\n",
    "my_list.append(43)\n",
    "print(my_list)"
   ]
  },
  {
   "cell_type": "code",
   "execution_count": 104,
   "id": "70af59c2-7b80-43aa-972c-046253a8aef3",
   "metadata": {},
   "outputs": [
    {
     "name": "stdout",
     "output_type": "stream",
     "text": [
      "[15, 24, 54, 100]\n"
     ]
    }
   ],
   "source": [
    "my_list = [15, 24, 54]\n",
    "my_list.insert(3, 100) \n",
    "print(my_list) "
   ]
  },
  {
   "cell_type": "code",
   "execution_count": 106,
   "id": "24a57da4-bc82-493e-80d9-b2c7f46e978e",
   "metadata": {},
   "outputs": [
    {
     "name": "stdout",
     "output_type": "stream",
     "text": [
      "[2, 3, 4, 3, 4]\n"
     ]
    }
   ],
   "source": [
    "list1 = [2, 3, 4]\n",
    "list2 = [3, 4]\n",
    "list1.extend(list2)\n",
    "print(list1) "
   ]
  },
  {
   "cell_type": "code",
   "execution_count": 108,
   "id": "10dc685d-f370-4ea3-b5fd-5ce433326c9e",
   "metadata": {},
   "outputs": [
    {
     "name": "stdout",
     "output_type": "stream",
     "text": [
      "[8, 2, 7, 6]\n"
     ]
    }
   ],
   "source": [
    "list3 = [8, 2]\n",
    "list4 = [7, 6]\n",
    "combined_list = list3 + list4\n",
    "print(combined_list)"
   ]
  },
  {
   "cell_type": "markdown",
   "id": "37e9be85-0451-4daf-aa77-ed79fb5e1c62",
   "metadata": {},
   "source": [
    "# Removing Elements"
   ]
  },
  {
   "cell_type": "code",
   "execution_count": 111,
   "id": "c41f5458-16c4-4966-b9c2-933736a9bfb5",
   "metadata": {},
   "outputs": [
    {
     "name": "stdout",
     "output_type": "stream",
     "text": [
      "[4, 7, 8, 9]\n"
     ]
    }
   ],
   "source": [
    "my_list = [4, 5, 7, 8, 9]\n",
    "my_list.remove(5) \n",
    "print(my_list) \n"
   ]
  },
  {
   "cell_type": "code",
   "execution_count": 113,
   "id": "80119321-d9b1-4819-a2c0-98a3d39ecc7c",
   "metadata": {},
   "outputs": [
    {
     "name": "stdout",
     "output_type": "stream",
     "text": [
      "200\n",
      "[100, 300, 400]\n",
      "400\n",
      "[100, 300]\n"
     ]
    }
   ],
   "source": [
    "my_list = [100, 200, 300, 400]\n",
    "removed_item = my_list.pop(1) \n",
    "print(removed_item) \n",
    "print(my_list)      \n",
    "\n",
    "last_item = my_list.pop() \n",
    "print(last_item)  \n",
    "print(my_list)    "
   ]
  },
  {
   "cell_type": "code",
   "execution_count": 116,
   "id": "6ce27c1a-5af7-4171-b4be-8332583de665",
   "metadata": {},
   "outputs": [
    {
     "name": "stdout",
     "output_type": "stream",
     "text": [
      "[10, 45, 40, 50]\n",
      "[10, 50]\n"
     ]
    }
   ],
   "source": [
    "my_list = [10, 45, 30, 40, 50]\n",
    "del my_list[2] \n",
    "print(my_list) \n",
    "\n",
    "del my_list[1:3] \n",
    "print(my_list) \n"
   ]
  },
  {
   "cell_type": "code",
   "execution_count": 118,
   "id": "3663b599-d1ec-4caa-adde-f91e5464d44f",
   "metadata": {},
   "outputs": [
    {
     "name": "stdout",
     "output_type": "stream",
     "text": [
      "[]\n"
     ]
    }
   ],
   "source": [
    "my_list = [11, 12, 13]\n",
    "my_list.clear()\n",
    "print(my_list)"
   ]
  },
  {
   "cell_type": "code",
   "execution_count": 120,
   "id": "da0f9a63-b07c-490b-9e28-0456ef58c268",
   "metadata": {},
   "outputs": [
    {
     "name": "stdout",
     "output_type": "stream",
     "text": [
      "5\n"
     ]
    }
   ],
   "source": [
    "my_list = [10, 20, 30, 40, 50]\n",
    "print(len(my_list))"
   ]
  },
  {
   "cell_type": "code",
   "execution_count": 122,
   "id": "364aa70a-9580-402f-9c26-3d6e3ecc950d",
   "metadata": {},
   "outputs": [
    {
     "name": "stdout",
     "output_type": "stream",
     "text": [
      "1\n",
      "3\n"
     ]
    }
   ],
   "source": [
    "my_list = [\"a\", \"b\", \"c\", \"b\"]\n",
    "print(my_list.index(\"b\")) \n",
    "print(my_list.index(\"b\", 2))"
   ]
  },
  {
   "cell_type": "code",
   "execution_count": 124,
   "id": "146f5a64-3e88-45bb-9bab-0d57f9c9e201",
   "metadata": {},
   "outputs": [
    {
     "name": "stdout",
     "output_type": "stream",
     "text": [
      "0\n"
     ]
    }
   ],
   "source": [
    "my_list = [10, 20, 20, 30, 20, 40]\n",
    "print(my_list.count(2))"
   ]
  },
  {
   "cell_type": "code",
   "execution_count": 126,
   "id": "426f3886-0fae-45f2-acf6-cea57dbb5842",
   "metadata": {},
   "outputs": [
    {
     "name": "stdout",
     "output_type": "stream",
     "text": [
      "[10, 10, 20, 30, 40, 50, 90]\n",
      "['cherry', 'banana', 'apple']\n"
     ]
    }
   ],
   "source": [
    "numbers = [30, 10, 40, 10, 50, 90, 20]\n",
    "numbers.sort()\n",
    "print(numbers) \n",
    "\n",
    "words = [\"banana\", \"apple\", \"cherry\"]\n",
    "words.sort(reverse=True)\n",
    "print(words)"
   ]
  },
  {
   "cell_type": "code",
   "execution_count": 128,
   "id": "d01445cc-ee65-4a24-83ec-15db3df9d276",
   "metadata": {},
   "outputs": [
    {
     "name": "stdout",
     "output_type": "stream",
     "text": [
      "[50, 40, 30, 20, 10]\n"
     ]
    }
   ],
   "source": [
    "my_list = [10, 20, 30, 40, 50]\n",
    "my_list.reverse()\n",
    "print(my_list)"
   ]
  },
  {
   "cell_type": "markdown",
   "id": "7f3678be-34b1-4d85-8b5b-fd24f517a869",
   "metadata": {},
   "source": [
    "# Tuple"
   ]
  },
  {
   "cell_type": "code",
   "execution_count": 132,
   "id": "e0ef2dd0-c2b6-4ee0-907f-222bbc2ceef6",
   "metadata": {},
   "outputs": [
    {
     "name": "stdout",
     "output_type": "stream",
     "text": [
      "(15, 26, 37, 48, 50)\n"
     ]
    }
   ],
   "source": [
    "numbers_tuple = (15, 26, 37, 48, 50)\n",
    "print(numbers_tuple)"
   ]
  },
  {
   "cell_type": "code",
   "execution_count": 134,
   "id": "25533f9a-af0a-4fbb-91ac-523be8c839b2",
   "metadata": {},
   "outputs": [
    {
     "name": "stdout",
     "output_type": "stream",
     "text": [
      "('apple', 'banana', 'cherry')\n"
     ]
    }
   ],
   "source": [
    "fruits_tuple = (\"apple\", \"banana\", \"cherry\")\n",
    "print(fruits_tuple)"
   ]
  },
  {
   "cell_type": "code",
   "execution_count": 136,
   "id": "e3a6bf30-5af7-4472-907f-fd4dc5d38cf5",
   "metadata": {},
   "outputs": [
    {
     "name": "stdout",
     "output_type": "stream",
     "text": [
      "(1, 'hello', 5.12, False)\n"
     ]
    }
   ],
   "source": [
    "mixed_tuple = (1, \"hello\", 5.12, False)\n",
    "print(mixed_tuple)"
   ]
  },
  {
   "cell_type": "code",
   "execution_count": 138,
   "id": "29be6bef-a46b-4370-8acf-6007eaedb287",
   "metadata": {},
   "outputs": [
    {
     "name": "stdout",
     "output_type": "stream",
     "text": [
      "((12, 23), (33, 45), (53, 65))\n"
     ]
    }
   ],
   "source": [
    "coordinates = ((12, 23), (33, 45), (53, 65))\n",
    "print(coordinates)"
   ]
  },
  {
   "cell_type": "code",
   "execution_count": 141,
   "id": "c99fceb7-0f88-49e5-b0e1-ee5ed795e620",
   "metadata": {},
   "outputs": [
    {
     "name": "stdout",
     "output_type": "stream",
     "text": [
      "banana\n",
      "cherry\n",
      "date\n"
     ]
    }
   ],
   "source": [
    "fruits_tuple = (\"apple\", \"banana\", \"cherry\", \"date\")\n",
    "\n",
    "print(fruits_tuple[1])   \n",
    "print(fruits_tuple[2])   \n",
    "print(fruits_tuple[-1])  "
   ]
  },
  {
   "cell_type": "code",
   "execution_count": 143,
   "id": "d14140fc-89e5-4921-a3fb-e131bd28a466",
   "metadata": {},
   "outputs": [
    {
     "name": "stdout",
     "output_type": "stream",
     "text": [
      "200\n"
     ]
    }
   ],
   "source": [
    "nested_tuple = ((100, 200), (300, 400))\n",
    "print(nested_tuple[0][1])"
   ]
  },
  {
   "cell_type": "code",
   "execution_count": 145,
   "id": "db0dcef7-dbe5-46d5-abdd-c61b79fe1b70",
   "metadata": {},
   "outputs": [
    {
     "name": "stdout",
     "output_type": "stream",
     "text": [
      "(22, 33, 44, 45, 56)\n",
      "(0, 11, 22, 33, 44)\n",
      "(45, 56, 57, 68, 89)\n",
      "(0, 11, 22, 33, 44, 45, 56, 57, 68, 89)\n",
      "(0, 22, 44, 56, 68)\n",
      "(89, 68, 57, 56, 45, 44, 33, 22, 11, 0)\n"
     ]
    }
   ],
   "source": [
    "numbers_tuple = (0, 11, 22, 33, 44, 45,56, 57, 68, 89)\n",
    "\n",
    "print(numbers_tuple[2:7])\n",
    "print(numbers_tuple[:5])   \n",
    "print(numbers_tuple[5:])   \n",
    "print(numbers_tuple[:])    \n",
    "print(numbers_tuple[::2])  \n",
    "print(numbers_tuple[::-1])"
   ]
  },
  {
   "cell_type": "code",
   "execution_count": 148,
   "id": "e598e632-f72d-48e5-a60d-f739f7f70551",
   "metadata": {},
   "outputs": [],
   "source": [
    "my_tuple = (11, 22, 33)\n"
   ]
  },
  {
   "cell_type": "code",
   "execution_count": 150,
   "id": "eae86b95-b738-4f49-acbd-cdc94f249665",
   "metadata": {},
   "outputs": [
    {
     "name": "stdout",
     "output_type": "stream",
     "text": [
      "(1, 2, 3, 4)\n"
     ]
    }
   ],
   "source": [
    "tuple1 = (1, 2)\n",
    "tuple2 = (3, 4)\n",
    "combined_tuple = tuple1 + tuple2\n",
    "print(combined_tuple)"
   ]
  },
  {
   "cell_type": "code",
   "execution_count": 152,
   "id": "6f06fb6f-a9c6-4f97-beae-b0b07727c27e",
   "metadata": {},
   "outputs": [
    {
     "name": "stdout",
     "output_type": "stream",
     "text": [
      "('a', 'a', 'a', 'a')\n"
     ]
    }
   ],
   "source": [
    "repeated_tuple = (\"a\",) * 4\n",
    "print(repeated_tuple) "
   ]
  },
  {
   "cell_type": "code",
   "execution_count": 154,
   "id": "216f553b-ddf1-4f31-a4d7-d129c68dafa9",
   "metadata": {},
   "outputs": [
    {
     "name": "stdout",
     "output_type": "stream",
     "text": [
      "1\n"
     ]
    }
   ],
   "source": [
    "my_tuple = (\"a\", \"b\", \"c\",\"d\",\"e\")\n",
    "print(my_tuple.index(\"b\")) "
   ]
  },
  {
   "cell_type": "code",
   "execution_count": 156,
   "id": "5c19ec1b-16a3-4ab4-bc5c-70391cda8296",
   "metadata": {},
   "outputs": [
    {
     "name": "stdout",
     "output_type": "stream",
     "text": [
      "False\n",
      "False\n"
     ]
    }
   ],
   "source": [
    "my_tuple = (\"yellow\", \"pink\", \"brown\")\n",
    "print(\"geen\" in my_tuple)    # Output: True\n",
    "print(\"yellow\" not in my_tuple) "
   ]
  },
  {
   "cell_type": "markdown",
   "id": "9f0ca518-e31a-427b-8907-39d54f004fdf",
   "metadata": {},
   "source": [
    "# Dictionary"
   ]
  },
  {
   "cell_type": "code",
   "execution_count": 158,
   "id": "04058477-9a13-4935-ac15-6bcc28e60a6b",
   "metadata": {},
   "outputs": [
    {
     "name": "stdout",
     "output_type": "stream",
     "text": [
      "{}\n"
     ]
    }
   ],
   "source": [
    "my_dict = {}\n",
    "print(my_dict)"
   ]
  },
  {
   "cell_type": "code",
   "execution_count": 164,
   "id": "12e3f4e7-fee3-479b-87cc-0581e94c195e",
   "metadata": {},
   "outputs": [
    {
     "name": "stdout",
     "output_type": "stream",
     "text": [
      "{'name': 'shazi', 'age': 35, 'city': 'risalpur'}\n"
     ]
    }
   ],
   "source": [
    "person = {\n",
    "    \"name\": \"shazi\",\n",
    "    \"age\": 35,\n",
    "    \"city\": \"risalpur\"\n",
    "}\n",
    "print(person)"
   ]
  },
  {
   "cell_type": "code",
   "execution_count": 166,
   "id": "a4692243-317f-4b8a-9537-1d2d033685a8",
   "metadata": {},
   "outputs": [
    {
     "name": "stdout",
     "output_type": "stream",
     "text": [
      "{10: 'A', 20: 'B+', 30: 'C'}\n"
     ]
    }
   ],
   "source": [
    "grades = {\n",
    "    10: \"A\",\n",
    "    20: \"B+\",\n",
    "    30: \"C\"\n",
    "}\n",
    "print(grades)"
   ]
  },
  {
   "cell_type": "code",
   "execution_count": 168,
   "id": "dc8b957c-ac0b-4eb7-b7d0-f0600361d971",
   "metadata": {},
   "outputs": [
    {
     "name": "stdout",
     "output_type": "stream",
     "text": [
      "{'name': 'shazi', 1: 'two', (3, 4): 'a tuple key'}\n"
     ]
    }
   ],
   "source": [
    "mixed_keys = {\n",
    "    \"name\": \"shazi\",\n",
    "    1: \"two\",\n",
    "    (3, 4): \"a tuple key\" # Tuples can be keys because they are immutable\n",
    "}\n",
    "print(mixed_keys)"
   ]
  },
  {
   "cell_type": "code",
   "execution_count": 170,
   "id": "109aaed3-2809-4d2f-beaf-d5d41fd696ea",
   "metadata": {},
   "outputs": [
    {
     "name": "stdout",
     "output_type": "stream",
     "text": [
      "{'type': 'dog', 'breed': 'Labrador', 'age': 10}\n"
     ]
    }
   ],
   "source": [
    "animal = dict(type=\"dog\", breed=\"Labrador\", age=10)\n",
    "print(animal)"
   ]
  },
  {
   "cell_type": "code",
   "execution_count": 172,
   "id": "e1960238-643a-4d7a-8df2-30bb137699e6",
   "metadata": {},
   "outputs": [
    {
     "name": "stdout",
     "output_type": "stream",
     "text": [
      "{'apple': 1, 'banana': 2, 'cherry': 3}\n"
     ]
    }
   ],
   "source": [
    "items_list = [(\"apple\", 1), (\"banana\", 2), (\"cherry\", 3)]\n",
    "fruits_inventory = dict(items_list)\n",
    "print(fruits_inventory) "
   ]
  },
  {
   "cell_type": "markdown",
   "id": "92ea6f86-9f71-4688-a0e1-aa6314a2d54b",
   "metadata": {},
   "source": [
    "# Accessing Dictionary Values"
   ]
  },
  {
   "cell_type": "code",
   "execution_count": 174,
   "id": "89bf311e-d01a-4398-8715-6f133e62460f",
   "metadata": {},
   "outputs": [
    {
     "name": "stdout",
     "output_type": "stream",
     "text": [
      "shahzaib\n",
      "22\n"
     ]
    }
   ],
   "source": [
    "person = {\n",
    "    \"name\": \"shahzaib\",\n",
    "    \"age\": 22,\n",
    "    \"city\": \"Risalpur\"\n",
    "}\n",
    "\n",
    "print(person[\"name\"]) \n",
    "print(person[\"age\"]) "
   ]
  },
  {
   "cell_type": "code",
   "execution_count": 175,
   "id": "1a9c5a01-a052-4a51-9c82-8e01d74936f8",
   "metadata": {},
   "outputs": [
    {
     "name": "stdout",
     "output_type": "stream",
     "text": [
      "Risalpur\n",
      "None\n",
      "N/A\n"
     ]
    }
   ],
   "source": [
    "print(person.get(\"city\"))     \n",
    "print(person.get(\"country\"))  \n",
    "print(person.get(\"zip_code\", \"N/A\"))"
   ]
  },
  {
   "cell_type": "markdown",
   "id": "e7772d44-bfb3-4ca4-9eee-8d9094af3965",
   "metadata": {},
   "source": [
    "# Modifying Dictionaries"
   ]
  },
  {
   "cell_type": "code",
   "execution_count": 177,
   "id": "54ed2720-ca09-4f2a-8eda-564ebea86089",
   "metadata": {},
   "outputs": [
    {
     "name": "stdout",
     "output_type": "stream",
     "text": [
      "{'name': 'shazi', 'age': 22, 'city': 'RISALPUR'}\n"
     ]
    }
   ],
   "source": [
    "person = {\n",
    "    \"name\": \"shazi\",\n",
    "    \"age\": 22,\n",
    "    \"city\": \"RISALPUR\"\n",
    "}\n",
    "\n",
    "person[\"age\"] = 22 # Change Alice's age\n",
    "print(person)"
   ]
  },
  {
   "cell_type": "code",
   "execution_count": 185,
   "id": "abd37be4-e563-441c-8d36-82bd65d17194",
   "metadata": {},
   "outputs": [
    {
     "name": "stdout",
     "output_type": "stream",
     "text": [
      "{'name': 'shazi', 'age': 22, 'city': 'Risalpur', 'occupation': 'Teacher'}\n"
     ]
    }
   ],
   "source": [
    "person = {\n",
    "    \"name\": \"shazi\",\n",
    "    \"age\": 22,\n",
    "    \"city\": \"Risalpur\"\n",
    "}\n",
    "\n",
    "person[\"occupation\"] = \"Teacher\" \n",
    "print(person)"
   ]
  },
  {
   "cell_type": "code",
   "execution_count": 187,
   "id": "868ca493-7424-4721-93b4-757346c00387",
   "metadata": {},
   "outputs": [
    {
     "name": "stdout",
     "output_type": "stream",
     "text": [
      "{'name': 'shazi', 'age': 22}\n"
     ]
    }
   ],
   "source": [
    "person = {\n",
    "    \"name\": \"shazi\",\n",
    "    \"age\": 22,\n",
    "    \"city\": \"Risalpur\"\n",
    "}\n",
    "\n",
    "del person[\"city\"]\n",
    "print(person)"
   ]
  },
  {
   "cell_type": "code",
   "execution_count": 189,
   "id": "19aecf91-6096-4744-bfc8-f5b67a8566e4",
   "metadata": {},
   "outputs": [
    {
     "name": "stdout",
     "output_type": "stream",
     "text": [
      "22\n",
      "{'name': 'shazi', 'city': 'risalpur'}\n"
     ]
    }
   ],
   "source": [
    "person = {\n",
    "    \"name\": \"shazi\",\n",
    "    \"age\": 22,\n",
    "    \"city\": \"risalpur\"\n",
    "}\n",
    "\n",
    "removed_age = person.pop(\"age\")\n",
    "print(removed_age) \n",
    "print(person) "
   ]
  },
  {
   "cell_type": "code",
   "execution_count": 191,
   "id": "951143d9-5a9c-4756-b8bd-b9b08dd99bb0",
   "metadata": {},
   "outputs": [
    {
     "name": "stdout",
     "output_type": "stream",
     "text": [
      "Unemployed\n",
      "{'name': 'shazi', 'city': 'risalpur'}\n"
     ]
    }
   ],
   "source": [
    "job = person.pop(\"occupation\", \"Unemployed\")\n",
    "print(job)   \n",
    "print(person)"
   ]
  },
  {
   "cell_type": "code",
   "execution_count": 193,
   "id": "8f9746f3-494c-4d41-bbfd-9e72763eb16f",
   "metadata": {},
   "outputs": [
    {
     "name": "stdout",
     "output_type": "stream",
     "text": [
      "('city', 'Risalpur')\n",
      "{'name': 'shazi', 'age': 22}\n"
     ]
    }
   ],
   "source": [
    "person = {\n",
    "    \"name\": \"shazi\",\n",
    "    \"age\": 22,\n",
    "    \"city\": \"Risalpur\"\n",
    "}\n",
    "\n",
    "last_item = person.popitem()\n",
    "print(last_item) \n",
    "print(person)"
   ]
  },
  {
   "cell_type": "code",
   "execution_count": 195,
   "id": "d67f0982-6e1f-44d2-ade2-f2729963aed7",
   "metadata": {},
   "outputs": [
    {
     "name": "stdout",
     "output_type": "stream",
     "text": [
      "{}\n"
     ]
    }
   ],
   "source": [
    "person = {\"name\": \"shazi\", \"age\": 22}\n",
    "person.clear()\n",
    "print(person)"
   ]
  },
  {
   "cell_type": "code",
   "execution_count": 197,
   "id": "54ec7d2d-389c-4078-9406-17b91f0b74da",
   "metadata": {},
   "outputs": [
    {
     "name": "stdout",
     "output_type": "stream",
     "text": [
      "2\n"
     ]
    }
   ],
   "source": [
    "my_dict = {\"a\": 8, \"b\": 8}\n",
    "print(len(my_dict))"
   ]
  },
  {
   "cell_type": "code",
   "execution_count": 199,
   "id": "a88977e3-39c3-42c4-9864-f468d20c6e67",
   "metadata": {},
   "outputs": [
    {
     "name": "stdout",
     "output_type": "stream",
     "text": [
      "{'a': 8, 'b': 6, 'c': 8}\n"
     ]
    }
   ],
   "source": [
    "dict1 = {\"a\": 8, \"b\": 8}\n",
    "dict2 = {\"b\": 6, \"c\": 8}\n",
    "\n",
    "dict1.update(dict2)\n",
    "print(dict1)"
   ]
  },
  {
   "cell_type": "code",
   "execution_count": 201,
   "id": "35ea54cf-9cfe-4b9c-a00d-9b37ce6dfec1",
   "metadata": {},
   "outputs": [
    {
     "name": "stdout",
     "output_type": "stream",
     "text": [
      "{'name': 'SHAZI', 'age': 22}\n"
     ]
    }
   ],
   "source": [
    "original_dict = {\"name\": \"SHAZI\", \"age\": 22}\n",
    "copied_dict = original_dict.copy()\n",
    "print(copied_dict)"
   ]
  },
  {
   "cell_type": "code",
   "execution_count": 203,
   "id": "e513c3b9-9f72-46e7-904b-71d9f821b959",
   "metadata": {},
   "outputs": [
    {
     "name": "stdout",
     "output_type": "stream",
     "text": [
      "{'name': 'SHAZI', 'age': 22}\n",
      "{'name': 'SHAZI', 'age': 22}\n"
     ]
    }
   ],
   "source": [
    "copied_dict[\"age\"] = 22\n",
    "print(original_dict) \n",
    "print(copied_dict) "
   ]
  },
  {
   "cell_type": "code",
   "execution_count": 205,
   "id": "ea0d5002-3228-4b36-9caa-4d9004ecefd2",
   "metadata": {},
   "outputs": [
    {
     "name": "stdout",
     "output_type": "stream",
     "text": [
      "{'k3': 0, 'k4': 0, 'k6': 0}\n"
     ]
    }
   ],
   "source": [
    "keys = [\"k3\", \"k4\", \"k6\"]\n",
    "default_value = 0\n",
    "new_dict = dict.fromkeys(keys, default_value)\n",
    "print(new_dict)"
   ]
  },
  {
   "cell_type": "markdown",
   "id": "b90732a8-6788-4ae9-ac02-f2c1049ead62",
   "metadata": {},
   "source": [
    "# set"
   ]
  },
  {
   "cell_type": "markdown",
   "id": "6f07f0ed-eb9d-4cda-bf7d-e6d3a4bae40e",
   "metadata": {},
   "source": [
    " # Creating Sets"
   ]
  },
  {
   "cell_type": "code",
   "execution_count": 207,
   "id": "d47528c4-1add-4d4b-a102-d92e47c05cb8",
   "metadata": {},
   "outputs": [
    {
     "name": "stdout",
     "output_type": "stream",
     "text": [
      "set()\n"
     ]
    }
   ],
   "source": [
    "my_set = set()\n",
    "print(my_set) "
   ]
  },
  {
   "cell_type": "code",
   "execution_count": 209,
   "id": "3f98817d-10d4-47dc-98a4-be5712b243e4",
   "metadata": {},
   "outputs": [
    {
     "name": "stdout",
     "output_type": "stream",
     "text": [
      "{33, 22, 55, 11, 44}\n"
     ]
    }
   ],
   "source": [
    "numbers_set = {11, 22, 33, 44, 55}\n",
    "print(numbers_set)"
   ]
  },
  {
   "cell_type": "code",
   "execution_count": 211,
   "id": "aa3c0e24-7c29-4a04-834e-ff2d7b57a964",
   "metadata": {},
   "outputs": [
    {
     "name": "stdout",
     "output_type": "stream",
     "text": [
      "{42, 13, 52, 84, 87, 95, 63}\n"
     ]
    }
   ],
   "source": [
    "my_list = [13, 42, 52, 63, 87, 84, 95]\n",
    "unique_numbers = set(my_list)\n",
    "print(unique_numbers)"
   ]
  },
  {
   "cell_type": "code",
   "execution_count": 213,
   "id": "b809add4-f482-41f8-8063-6f7538a66aa1",
   "metadata": {},
   "outputs": [
    {
     "name": "stdout",
     "output_type": "stream",
     "text": [
      "{1, (15, 62), 'hello', 6.14}\n"
     ]
    }
   ],
   "source": [
    "mixed_set = {1, \"hello\", 6.14, True, (15, 62)} \n",
    "print(mixed_set)"
   ]
  },
  {
   "cell_type": "markdown",
   "id": "a643d7db-7a1a-4ab4-9e3b-ad922fcef12b",
   "metadata": {},
   "source": [
    "# Adding Elements to a Set"
   ]
  },
  {
   "cell_type": "code",
   "execution_count": 219,
   "id": "79546c72-ed87-4de4-8580-e4aec2021d34",
   "metadata": {},
   "outputs": [
    {
     "name": "stdout",
     "output_type": "stream",
     "text": [
      "{1, 2, 3, 4}\n",
      "{1, 2, 3, 4}\n"
     ]
    }
   ],
   "source": [
    "my_set = {1, 2, 3}\n",
    "my_set.add(4 )\n",
    "print(my_set) \n",
    "\n",
    "my_set.add(2) \n",
    "print(my_set)"
   ]
  },
  {
   "cell_type": "code",
   "execution_count": 221,
   "id": "fb70241d-0124-4816-a036-4b65ee6b285a",
   "metadata": {},
   "outputs": [
    {
     "name": "stdout",
     "output_type": "stream",
     "text": [
      "{64, 33, 11, 43, 53, 22}\n",
      "{64, 33, 11, 43, 47, 53, 22, 28}\n"
     ]
    }
   ],
   "source": [
    "my_set = {11, 22, 33}\n",
    "my_set.update([43, 53, 64])\n",
    "print(my_set) \n",
    "\n",
    "my_set.update({53, 47, 28})\n",
    "print(my_set)"
   ]
  },
  {
   "cell_type": "markdown",
   "id": "57a7a411-7463-4abd-9873-b906d0bb9e79",
   "metadata": {},
   "source": [
    "# Removing Elements from a Set\n"
   ]
  },
  {
   "cell_type": "code",
   "execution_count": 224,
   "id": "6aef035a-febc-4e74-93b9-a8055216f97a",
   "metadata": {},
   "outputs": [
    {
     "name": "stdout",
     "output_type": "stream",
     "text": [
      "{41, 11, 22}\n"
     ]
    }
   ],
   "source": [
    "my_set = {11, 22, 13, 41}\n",
    "my_set.remove(13)\n",
    "print(my_set)"
   ]
  },
  {
   "cell_type": "code",
   "execution_count": 227,
   "id": "c351f9db-c51e-408b-9d45-72c0160a55c7",
   "metadata": {},
   "outputs": [
    {
     "name": "stdout",
     "output_type": "stream",
     "text": [
      "{33, 11, 44}\n",
      "{33, 11, 44}\n"
     ]
    }
   ],
   "source": [
    "my_set = {11, 22, 33, 44}\n",
    "my_set.discard(22)\n",
    "print(my_set) \n",
    "\n",
    "my_set.discard(99) \n",
    "print(my_set)"
   ]
  },
  {
   "cell_type": "code",
   "execution_count": 229,
   "id": "0d97b360-d016-431d-8052-5f18f1c570af",
   "metadata": {},
   "outputs": [
    {
     "name": "stdout",
     "output_type": "stream",
     "text": [
      "{32, 67, 11, 43, 49, 54, 58, 30}\n",
      "{32, 67, 11, 43, 49, 54, 58, 30}\n"
     ]
    }
   ],
   "source": [
    "set_a = {11, 32, 43,54}\n",
    "set_b = {30, 49, 58, 67}\n",
    "set_c = {15, 42}\n",
    "print(set_a | set_b)       \n",
    "print(set_a.union(set_b)) "
   ]
  },
  {
   "cell_type": "code",
   "execution_count": 231,
   "id": "c9d9fa1a-bfb9-43a0-b62d-3e7d1580f0ed",
   "metadata": {},
   "outputs": [
    {
     "name": "stdout",
     "output_type": "stream",
     "text": [
      "set()\n",
      "set()\n"
     ]
    }
   ],
   "source": [
    "print(set_a & set_b)             \n",
    "print(set_a.intersection(set_b))"
   ]
  },
  {
   "cell_type": "code",
   "execution_count": 233,
   "id": "63aa393f-9d57-4494-b6e4-599a58b0f0b7",
   "metadata": {},
   "outputs": [
    {
     "name": "stdout",
     "output_type": "stream",
     "text": [
      "{32, 43, 11, 54}\n",
      "{32, 43, 11, 54}\n",
      "{49, 58, 67, 30}\n"
     ]
    }
   ],
   "source": [
    "print(set_a - set_b)              \n",
    "print(set_a.difference(set_b))    print(set_a ^ set_b)                         # Output: {1, 2, 5, 6}\n",
    "print(set_a.symmetric_difference(set_b))\n",
    "\n",
    "print(set_b - set_a)"
   ]
  },
  {
   "cell_type": "code",
   "execution_count": 235,
   "id": "68dbc18f-ff96-469a-93cf-c31f99067179",
   "metadata": {},
   "outputs": [
    {
     "name": "stdout",
     "output_type": "stream",
     "text": [
      "{32, 67, 11, 43, 49, 54, 58, 30}\n",
      "{32, 67, 11, 43, 49, 54, 58, 30}\n"
     ]
    }
   ],
   "source": [
    "print(set_a ^ set_b)                         \n",
    "print(set_a.symmetric_difference(set_b))"
   ]
  },
  {
   "cell_type": "code",
   "execution_count": 237,
   "id": "d57bb7e4-8866-4897-80d2-ef197ec06acf",
   "metadata": {},
   "outputs": [
    {
     "name": "stdout",
     "output_type": "stream",
     "text": [
      "False\n",
      "False\n"
     ]
    }
   ],
   "source": [
    "print(set_c <= set_a)            \n",
    "print(set_a.issubset(set_c)) "
   ]
  },
  {
   "cell_type": "code",
   "execution_count": 239,
   "id": "c413b4f9-214c-4c2f-8758-08e1e37df730",
   "metadata": {},
   "outputs": [
    {
     "name": "stdout",
     "output_type": "stream",
     "text": [
      "True\n",
      "True\n"
     ]
    }
   ],
   "source": [
    "set_d = {73, 89}\n",
    "print(set_a.isdisjoint(set_b)) \n",
    "print(set_a.isdisjoint(set_d))"
   ]
  },
  {
   "cell_type": "code",
   "execution_count": 241,
   "id": "9176c3df-9ca8-48f8-a054-82c0161741d2",
   "metadata": {},
   "outputs": [
    {
     "name": "stdout",
     "output_type": "stream",
     "text": [
      "4\n"
     ]
    }
   ],
   "source": [
    "my_set = {13, 42, 53, 64}\n",
    "print(len(my_set))"
   ]
  },
  {
   "cell_type": "code",
   "execution_count": 243,
   "id": "936c495d-8521-49f7-af1a-2b534d3e6a76",
   "metadata": {},
   "outputs": [
    {
     "name": "stdout",
     "output_type": "stream",
     "text": [
      "False\n",
      "True\n"
     ]
    }
   ],
   "source": [
    "my_set = {\"pea\", \"water melon\", \"orange\"}\n",
    "print(\"banana\" in my_set)    \n",
    "print(\"grape\" not in my_set)"
   ]
  },
  {
   "cell_type": "code",
   "execution_count": 244,
   "id": "28c63a22-245a-4d6b-b886-5b2d32491ca5",
   "metadata": {},
   "outputs": [
    {
     "name": "stdout",
     "output_type": "stream",
     "text": [
      "[41, 42, 13, 25, 63]\n"
     ]
    }
   ],
   "source": [
    "my_list = [13, 42, 25, 63, 41]\n",
    "unique_elements = list(set(my_list)) # Convert list to set (removes duplicates), then back to list\n",
    "print(unique_elements)"
   ]
  }
 ],
 "metadata": {
  "kernelspec": {
   "display_name": "Python 3 (ipykernel)",
   "language": "python",
   "name": "python3"
  },
  "language_info": {
   "codemirror_mode": {
    "name": "ipython",
    "version": 3
   },
   "file_extension": ".py",
   "mimetype": "text/x-python",
   "name": "python",
   "nbconvert_exporter": "python",
   "pygments_lexer": "ipython3",
   "version": "3.13.5"
  }
 },
 "nbformat": 4,
 "nbformat_minor": 5
}
